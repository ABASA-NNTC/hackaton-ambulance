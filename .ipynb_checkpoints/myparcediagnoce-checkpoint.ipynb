{
 "cells": [
  {
   "cell_type": "code",
   "execution_count": 59,
   "id": "1377d4c1",
   "metadata": {},
   "outputs": [],
   "source": [
    "import pandas as pd\n",
    "import os\n",
    "import datetime\n",
    "from Parser.TableParser import TableParser\n",
    "from Parser.HolidaysParser import HolidaysParser\n",
    "import matplotlib.pyplot as plt"
   ]
  },
  {
   "cell_type": "code",
   "execution_count": 2,
   "id": "58b2c158",
   "metadata": {},
   "outputs": [],
   "source": [
    "pd.set_option('display.max_columns', None)"
   ]
  },
  {
   "cell_type": "code",
   "execution_count": 3,
   "id": "f1304bb3",
   "metadata": {},
   "outputs": [
    {
     "name": "stderr",
     "output_type": "stream",
     "text": [
      "\"pwd\" ­Ґ пў«пҐвбп ў­гваҐ­­Ґ© Ё«Ё ў­Ґи­Ґ©\n",
      "Є®¬ ­¤®©, ЁбЇ®«­пҐ¬®© Їа®Ја ¬¬®© Ё«Ё Ї ЄҐв­л¬ д ©«®¬.\n"
     ]
    }
   ],
   "source": [
    "!pwd"
   ]
  },
  {
   "cell_type": "code",
   "execution_count": 4,
   "id": "c8a8ee5f",
   "metadata": {},
   "outputs": [],
   "source": [
    "all_df = []\n",
    "source = 'Datasets/processed_xlsx/'\n",
    "for directory in os.listdir(source):\n",
    "    for filepath in os.listdir(source + directory):\n",
    "        df = pd.read_excel(source + directory + '/' + filepath)\n",
    "        all_df.append(df)"
   ]
  },
  {
   "cell_type": "code",
   "execution_count": 5,
   "id": "d82ecf7b",
   "metadata": {},
   "outputs": [],
   "source": [
    "df = pd.concat(all_df)"
   ]
  },
  {
   "cell_type": "code",
   "execution_count": 6,
   "id": "5fc29af6",
   "metadata": {},
   "outputs": [
    {
     "name": "stdout",
     "output_type": "stream",
     "text": [
      "<class 'pandas.core.frame.DataFrame'>\n",
      "Int64Index: 166260 entries, 0 to 9239\n",
      "Data columns (total 19 columns):\n",
      " #   Column         Non-Null Count   Dtype         \n",
      "---  ------         --------------   -----         \n",
      " 0   Unnamed: 0     166260 non-null  int64         \n",
      " 1   date           163970 non-null  datetime64[ns]\n",
      " 2   number         166260 non-null  object        \n",
      " 3   patient        0 non-null       float64       \n",
      " 4   age            166260 non-null  object        \n",
      " 5   called by      117411 non-null  object        \n",
      " 6   address        91371 non-null   object        \n",
      " 7   Occasion       152641 non-null  object        \n",
      " 8   Call Type      165895 non-null  object        \n",
      " 9   Sick Type      158771 non-null  object        \n",
      " 10  Diagnose       160128 non-null  object        \n",
      " 11  Result         163871 non-null  object        \n",
      " 12  Delivered to   166175 non-null  object        \n",
      " 13  brigade        0 non-null       float64       \n",
      " 14  substation     163957 non-null  object        \n",
      " 15  Accepted time  166170 non-null  datetime64[ns]\n",
      " 16  Arrived time   166168 non-null  datetime64[ns]\n",
      " 17  hospitalized   0 non-null       float64       \n",
      " 18  executive      0 non-null       float64       \n",
      "dtypes: datetime64[ns](3), float64(4), int64(1), object(11)\n",
      "memory usage: 25.4+ MB\n"
     ]
    }
   ],
   "source": [
    "df.info()"
   ]
  },
  {
   "cell_type": "code",
   "execution_count": 7,
   "id": "725eb4ad",
   "metadata": {},
   "outputs": [],
   "source": [
    "df = df.drop(['Unnamed: 0', 'patient', 'hospitalized', 'executive', 'brigade', 'address', 'number', 'called by'], axis=1)"
   ]
  },
  {
   "cell_type": "code",
   "execution_count": 8,
   "id": "9b326263",
   "metadata": {},
   "outputs": [
    {
     "name": "stdout",
     "output_type": "stream",
     "text": [
      "<class 'pandas.core.frame.DataFrame'>\n",
      "Int64Index: 166260 entries, 0 to 9239\n",
      "Data columns (total 11 columns):\n",
      " #   Column         Non-Null Count   Dtype         \n",
      "---  ------         --------------   -----         \n",
      " 0   date           163970 non-null  datetime64[ns]\n",
      " 1   age            166260 non-null  object        \n",
      " 2   Occasion       152641 non-null  object        \n",
      " 3   Call Type      165895 non-null  object        \n",
      " 4   Sick Type      158771 non-null  object        \n",
      " 5   Diagnose       160128 non-null  object        \n",
      " 6   Result         163871 non-null  object        \n",
      " 7   Delivered to   166175 non-null  object        \n",
      " 8   substation     163957 non-null  object        \n",
      " 9   Accepted time  166170 non-null  datetime64[ns]\n",
      " 10  Arrived time   166168 non-null  datetime64[ns]\n",
      "dtypes: datetime64[ns](3), object(8)\n",
      "memory usage: 15.2+ MB\n"
     ]
    }
   ],
   "source": [
    "df.info()"
   ]
  },
  {
   "cell_type": "code",
   "execution_count": 9,
   "id": "34758931",
   "metadata": {},
   "outputs": [],
   "source": [
    "df = df.dropna()"
   ]
  },
  {
   "cell_type": "code",
   "execution_count": 10,
   "id": "a990822f",
   "metadata": {},
   "outputs": [
    {
     "name": "stdout",
     "output_type": "stream",
     "text": [
      "<class 'pandas.core.frame.DataFrame'>\n",
      "Int64Index: 141791 entries, 0 to 9234\n",
      "Data columns (total 11 columns):\n",
      " #   Column         Non-Null Count   Dtype         \n",
      "---  ------         --------------   -----         \n",
      " 0   date           141791 non-null  datetime64[ns]\n",
      " 1   age            141791 non-null  object        \n",
      " 2   Occasion       141791 non-null  object        \n",
      " 3   Call Type      141791 non-null  object        \n",
      " 4   Sick Type      141791 non-null  object        \n",
      " 5   Diagnose       141791 non-null  object        \n",
      " 6   Result         141791 non-null  object        \n",
      " 7   Delivered to   141791 non-null  object        \n",
      " 8   substation     141791 non-null  object        \n",
      " 9   Accepted time  141791 non-null  datetime64[ns]\n",
      " 10  Arrived time   141791 non-null  datetime64[ns]\n",
      "dtypes: datetime64[ns](3), object(8)\n",
      "memory usage: 13.0+ MB\n"
     ]
    }
   ],
   "source": [
    "df.info()"
   ]
  },
  {
   "cell_type": "code",
   "execution_count": 11,
   "id": "bdb814bc",
   "metadata": {},
   "outputs": [],
   "source": [
    "def setSeason(a):\n",
    "    if a in (1, 2, 12):\n",
    "        season = 'Winter'\n",
    "    elif a in (3, 4, 5):\n",
    "        season = 'Spring'\n",
    "    elif a in (6, 7, 8):\n",
    "        season = 'Summer'\n",
    "    elif a in (9, 10, 11):\n",
    "        season = 'Autumn'\n",
    "    else:\n",
    "        season = None\n",
    "    return season"
   ]
  },
  {
   "cell_type": "code",
   "execution_count": 12,
   "id": "7bc22fb7",
   "metadata": {},
   "outputs": [],
   "source": [
    "df['season'] = df['date'].dt.month.apply(setSeason)"
   ]
  },
  {
   "cell_type": "code",
   "execution_count": 13,
   "id": "cd9203b9",
   "metadata": {},
   "outputs": [
    {
     "data": {
      "text/plain": [
       "0    Winter\n",
       "1    Winter\n",
       "3    Winter\n",
       "4    Winter\n",
       "6    Winter\n",
       "Name: season, dtype: object"
      ]
     },
     "execution_count": 13,
     "metadata": {},
     "output_type": "execute_result"
    }
   ],
   "source": [
    "df['season'].head()"
   ]
  },
  {
   "cell_type": "code",
   "execution_count": 14,
   "id": "c468c37b",
   "metadata": {},
   "outputs": [],
   "source": [
    "def setDayOfWeek(a):\n",
    "    if a == 0:\n",
    "        day = 'Monday'\n",
    "    elif a == 1:\n",
    "        day = 'Tuesday'\n",
    "    elif a == 2:\n",
    "        day = 'Wednesday'\n",
    "    elif a == 3:\n",
    "        day = 'Thursday'\n",
    "    elif a == 4:\n",
    "        day = 'Friday'\n",
    "    elif a == 5:\n",
    "        day = 'Saturday'\n",
    "    elif a == 6:\n",
    "        day = 'Sunday'\n",
    "    else:\n",
    "        day = None\n",
    "    return day"
   ]
  },
  {
   "cell_type": "code",
   "execution_count": 15,
   "id": "aabb3e92",
   "metadata": {},
   "outputs": [],
   "source": [
    "df['dayOfWeek'] = df['date'].dt.dayofweek.apply(setDayOfWeek)"
   ]
  },
  {
   "cell_type": "code",
   "execution_count": 16,
   "id": "30c87ad3",
   "metadata": {},
   "outputs": [
    {
     "data": {
      "text/plain": [
       "0    Wednesday\n",
       "1    Wednesday\n",
       "3    Wednesday\n",
       "4    Wednesday\n",
       "6    Wednesday\n",
       "Name: dayOfWeek, dtype: object"
      ]
     },
     "execution_count": 16,
     "metadata": {},
     "output_type": "execute_result"
    }
   ],
   "source": [
    "df['dayOfWeek'].head()"
   ]
  },
  {
   "cell_type": "code",
   "execution_count": 17,
   "id": "c477928d",
   "metadata": {},
   "outputs": [],
   "source": [
    "df['Accepted time'] = pd.to_datetime(df['Accepted time'], format=\"%Y-%m-%d %H:%M:%S\")\n",
    "df['Arrived time'] = pd.to_datetime(df['Arrived time'], format=\"%Y-%m-%d %H:%M:%S\")"
   ]
  },
  {
   "cell_type": "code",
   "execution_count": 18,
   "id": "c83c74ee",
   "metadata": {},
   "outputs": [],
   "source": [
    "df['Accepted time'] = df['Accepted time'].dt.time.astype(str).str[:8]"
   ]
  },
  {
   "cell_type": "code",
   "execution_count": 19,
   "id": "62fa37b2",
   "metadata": {},
   "outputs": [],
   "source": [
    "df['Arrived time'] = df['Arrived time'].dt.time.astype(str).str[:8]"
   ]
  },
  {
   "cell_type": "code",
   "execution_count": 20,
   "id": "0da37239",
   "metadata": {},
   "outputs": [],
   "source": [
    "all_weather_dfs = []\n",
    "for year in [2020, 2021, 2022]:\n",
    "    weather_dfs = pd.read_excel(f'additionalData/weather/{year}.xls', skiprows=6)\n",
    "    all_weather_dfs.append(weather_dfs)\n",
    "df_weather = pd.concat(all_weather_dfs)"
   ]
  },
  {
   "cell_type": "code",
   "execution_count": 21,
   "id": "7df10779",
   "metadata": {},
   "outputs": [],
   "source": [
    "df_weather = df_weather.rename({'Местное время в Нижнем Новгороде':'datetime'}, axis=1)\n",
    "df_weather['datetime'] = pd.to_datetime(df_weather['datetime'])"
   ]
  },
  {
   "cell_type": "code",
   "execution_count": 22,
   "id": "006a8597",
   "metadata": {},
   "outputs": [],
   "source": [
    "df_weather['date'] = df_weather['datetime'].dt.date.astype('datetime64')"
   ]
  },
  {
   "cell_type": "code",
   "execution_count": 23,
   "id": "602f8a98",
   "metadata": {},
   "outputs": [
    {
     "data": {
      "text/plain": [
       "0      2020-12-31\n",
       "1      2020-12-31\n",
       "2      2020-12-31\n",
       "3      2020-12-31\n",
       "4      2020-12-31\n",
       "          ...    \n",
       "1203   2022-01-01\n",
       "1204   2022-01-01\n",
       "1205   2022-01-01\n",
       "1206   2022-01-01\n",
       "1207   2022-01-01\n",
       "Name: date, Length: 7056, dtype: datetime64[ns]"
      ]
     },
     "execution_count": 23,
     "metadata": {},
     "output_type": "execute_result"
    }
   ],
   "source": [
    "df_weather['date']"
   ]
  },
  {
   "cell_type": "code",
   "execution_count": 24,
   "id": "c805f243",
   "metadata": {},
   "outputs": [
    {
     "name": "stdout",
     "output_type": "stream",
     "text": [
      "<class 'pandas.core.frame.DataFrame'>\n",
      "Int64Index: 7056 entries, 0 to 1207\n",
      "Data columns (total 30 columns):\n",
      " #   Column    Non-Null Count  Dtype         \n",
      "---  ------    --------------  -----         \n",
      " 0   datetime  7056 non-null   datetime64[ns]\n",
      " 1   T         7056 non-null   float64       \n",
      " 2   Po        7051 non-null   float64       \n",
      " 3   P         7051 non-null   float64       \n",
      " 4   Pa        7045 non-null   float64       \n",
      " 5   U         7056 non-null   int64         \n",
      " 6   DD        7056 non-null   object        \n",
      " 7   Ff        7056 non-null   int64         \n",
      " 8   ff10      5501 non-null   float64       \n",
      " 9   ff3       5804 non-null   float64       \n",
      " 10  N         7047 non-null   object        \n",
      " 11  WW        7056 non-null   object        \n",
      " 12  W1        2453 non-null   object        \n",
      " 13  W2        2453 non-null   object        \n",
      " 14  Tn        1154 non-null   float64       \n",
      " 15  Tx        881 non-null    float64       \n",
      " 16  Cl        6102 non-null   object        \n",
      " 17  Nh        6102 non-null   object        \n",
      " 18  H         6103 non-null   object        \n",
      " 19  Cm        4434 non-null   object        \n",
      " 20  Ch        3590 non-null   object        \n",
      " 21  VV        7044 non-null   float64       \n",
      " 22  Td        7056 non-null   float64       \n",
      " 23  RRR       1767 non-null   object        \n",
      " 24  tR        1767 non-null   float64       \n",
      " 25  E         340 non-null    object        \n",
      " 26  Tg        340 non-null    float64       \n",
      " 27  E'        401 non-null    object        \n",
      " 28  sss       401 non-null    object        \n",
      " 29  date      7056 non-null   datetime64[ns]\n",
      "dtypes: datetime64[ns](2), float64(12), int64(2), object(14)\n",
      "memory usage: 1.7+ MB\n"
     ]
    }
   ],
   "source": [
    "df_weather.info()"
   ]
  },
  {
   "cell_type": "code",
   "execution_count": 25,
   "id": "1562a0bf",
   "metadata": {},
   "outputs": [
    {
     "name": "stdout",
     "output_type": "stream",
     "text": [
      "<class 'pandas.core.frame.DataFrame'>\n",
      "Int64Index: 141791 entries, 0 to 9234\n",
      "Data columns (total 13 columns):\n",
      " #   Column         Non-Null Count   Dtype         \n",
      "---  ------         --------------   -----         \n",
      " 0   date           141791 non-null  datetime64[ns]\n",
      " 1   age            141791 non-null  object        \n",
      " 2   Occasion       141791 non-null  object        \n",
      " 3   Call Type      141791 non-null  object        \n",
      " 4   Sick Type      141791 non-null  object        \n",
      " 5   Diagnose       141791 non-null  object        \n",
      " 6   Result         141791 non-null  object        \n",
      " 7   Delivered to   141791 non-null  object        \n",
      " 8   substation     141791 non-null  object        \n",
      " 9   Accepted time  141791 non-null  object        \n",
      " 10  Arrived time   141791 non-null  object        \n",
      " 11  season         141791 non-null  object        \n",
      " 12  dayOfWeek      141791 non-null  object        \n",
      "dtypes: datetime64[ns](1), object(12)\n",
      "memory usage: 15.1+ MB\n"
     ]
    }
   ],
   "source": [
    "df.info()"
   ]
  },
  {
   "cell_type": "code",
   "execution_count": 26,
   "id": "b3e88d3a",
   "metadata": {},
   "outputs": [],
   "source": [
    "holidays = []\n",
    "for year in (2020, 2021, 2022):\n",
    "    holidays.extend(HolidaysParser.get_holidays(year))"
   ]
  },
  {
   "cell_type": "code",
   "execution_count": 27,
   "id": "072852e9",
   "metadata": {},
   "outputs": [],
   "source": [
    "holidays = [datetime.datetime.strptime(holiday, \"%d.%m.%Y\") for holiday in holidays]"
   ]
  },
  {
   "cell_type": "code",
   "execution_count": 28,
   "id": "839895c0",
   "metadata": {},
   "outputs": [],
   "source": [
    "holidays_ser = pd.DataFrame({'holiday day': 1, 'date': holidays})"
   ]
  },
  {
   "cell_type": "code",
   "execution_count": 29,
   "id": "de13c21e",
   "metadata": {},
   "outputs": [
    {
     "data": {
      "text/html": [
       "<div>\n",
       "<style scoped>\n",
       "    .dataframe tbody tr th:only-of-type {\n",
       "        vertical-align: middle;\n",
       "    }\n",
       "\n",
       "    .dataframe tbody tr th {\n",
       "        vertical-align: top;\n",
       "    }\n",
       "\n",
       "    .dataframe thead th {\n",
       "        text-align: right;\n",
       "    }\n",
       "</style>\n",
       "<table border=\"1\" class=\"dataframe\">\n",
       "  <thead>\n",
       "    <tr style=\"text-align: right;\">\n",
       "      <th></th>\n",
       "      <th>holiday day</th>\n",
       "      <th>date</th>\n",
       "    </tr>\n",
       "  </thead>\n",
       "  <tbody>\n",
       "    <tr>\n",
       "      <th>0</th>\n",
       "      <td>1</td>\n",
       "      <td>2020-01-01</td>\n",
       "    </tr>\n",
       "    <tr>\n",
       "      <th>1</th>\n",
       "      <td>1</td>\n",
       "      <td>2020-01-02</td>\n",
       "    </tr>\n",
       "    <tr>\n",
       "      <th>2</th>\n",
       "      <td>1</td>\n",
       "      <td>2020-01-03</td>\n",
       "    </tr>\n",
       "    <tr>\n",
       "      <th>3</th>\n",
       "      <td>1</td>\n",
       "      <td>2020-01-04</td>\n",
       "    </tr>\n",
       "    <tr>\n",
       "      <th>4</th>\n",
       "      <td>1</td>\n",
       "      <td>2020-01-05</td>\n",
       "    </tr>\n",
       "    <tr>\n",
       "      <th>...</th>\n",
       "      <td>...</td>\n",
       "      <td>...</td>\n",
       "    </tr>\n",
       "    <tr>\n",
       "      <th>394</th>\n",
       "      <td>1</td>\n",
       "      <td>2022-12-17</td>\n",
       "    </tr>\n",
       "    <tr>\n",
       "      <th>395</th>\n",
       "      <td>1</td>\n",
       "      <td>2022-12-18</td>\n",
       "    </tr>\n",
       "    <tr>\n",
       "      <th>396</th>\n",
       "      <td>1</td>\n",
       "      <td>2022-12-24</td>\n",
       "    </tr>\n",
       "    <tr>\n",
       "      <th>397</th>\n",
       "      <td>1</td>\n",
       "      <td>2022-12-25</td>\n",
       "    </tr>\n",
       "    <tr>\n",
       "      <th>398</th>\n",
       "      <td>1</td>\n",
       "      <td>2022-12-31</td>\n",
       "    </tr>\n",
       "  </tbody>\n",
       "</table>\n",
       "<p>399 rows × 2 columns</p>\n",
       "</div>"
      ],
      "text/plain": [
       "     holiday day       date\n",
       "0              1 2020-01-01\n",
       "1              1 2020-01-02\n",
       "2              1 2020-01-03\n",
       "3              1 2020-01-04\n",
       "4              1 2020-01-05\n",
       "..           ...        ...\n",
       "394            1 2022-12-17\n",
       "395            1 2022-12-18\n",
       "396            1 2022-12-24\n",
       "397            1 2022-12-25\n",
       "398            1 2022-12-31\n",
       "\n",
       "[399 rows x 2 columns]"
      ]
     },
     "execution_count": 29,
     "metadata": {},
     "output_type": "execute_result"
    }
   ],
   "source": [
    "holidays_ser"
   ]
  },
  {
   "cell_type": "code",
   "execution_count": 30,
   "id": "0e7ec7a6",
   "metadata": {},
   "outputs": [],
   "source": [
    "total_df = df.merge(df_weather, on='date').merge(holidays_ser, on='date', how='left')"
   ]
  },
  {
   "cell_type": "code",
   "execution_count": 31,
   "id": "e3ea0b1e",
   "metadata": {},
   "outputs": [],
   "source": [
    "total_df['holiday day'] = total_df['holiday day'].fillna(0)"
   ]
  },
  {
   "cell_type": "code",
   "execution_count": 32,
   "id": "87091b9f",
   "metadata": {},
   "outputs": [],
   "source": [
    "import seaborn as sns"
   ]
  },
  {
   "cell_type": "code",
   "execution_count": 33,
   "id": "67cf2efc",
   "metadata": {},
   "outputs": [
    {
     "data": {
      "text/html": [
       "<div>\n",
       "<style scoped>\n",
       "    .dataframe tbody tr th:only-of-type {\n",
       "        vertical-align: middle;\n",
       "    }\n",
       "\n",
       "    .dataframe tbody tr th {\n",
       "        vertical-align: top;\n",
       "    }\n",
       "\n",
       "    .dataframe thead th {\n",
       "        text-align: right;\n",
       "    }\n",
       "</style>\n",
       "<table border=\"1\" class=\"dataframe\">\n",
       "  <thead>\n",
       "    <tr style=\"text-align: right;\">\n",
       "      <th></th>\n",
       "      <th>date</th>\n",
       "      <th>age</th>\n",
       "      <th>Occasion</th>\n",
       "      <th>Call Type</th>\n",
       "      <th>Sick Type</th>\n",
       "      <th>Diagnose</th>\n",
       "      <th>Result</th>\n",
       "      <th>Delivered to</th>\n",
       "      <th>substation</th>\n",
       "      <th>Accepted time</th>\n",
       "      <th>Arrived time</th>\n",
       "      <th>season</th>\n",
       "      <th>dayOfWeek</th>\n",
       "      <th>datetime</th>\n",
       "      <th>T</th>\n",
       "      <th>Po</th>\n",
       "      <th>P</th>\n",
       "      <th>Pa</th>\n",
       "      <th>U</th>\n",
       "      <th>DD</th>\n",
       "      <th>Ff</th>\n",
       "      <th>ff10</th>\n",
       "      <th>ff3</th>\n",
       "      <th>N</th>\n",
       "      <th>WW</th>\n",
       "      <th>W1</th>\n",
       "      <th>W2</th>\n",
       "      <th>Tn</th>\n",
       "      <th>Tx</th>\n",
       "      <th>Cl</th>\n",
       "      <th>Nh</th>\n",
       "      <th>H</th>\n",
       "      <th>Cm</th>\n",
       "      <th>Ch</th>\n",
       "      <th>VV</th>\n",
       "      <th>Td</th>\n",
       "      <th>RRR</th>\n",
       "      <th>tR</th>\n",
       "      <th>E</th>\n",
       "      <th>Tg</th>\n",
       "      <th>E'</th>\n",
       "      <th>sss</th>\n",
       "      <th>holiday day</th>\n",
       "    </tr>\n",
       "  </thead>\n",
       "  <tbody>\n",
       "    <tr>\n",
       "      <th>0</th>\n",
       "      <td>2020-01-01</td>\n",
       "      <td>26 лет</td>\n",
       "      <td>Температура, взрослый</td>\n",
       "      <td>Первичный</td>\n",
       "      <td>неотложное состояние</td>\n",
       "      <td>ОРВИ. Гипертермический синдром</td>\n",
       "      <td>оказана помощь, больной оставлен на месте</td>\n",
       "      <td>ГБУЗ НО \"Городская поликлиника №7\" (ул. Верхне...</td>\n",
       "      <td>ПСМП №7</td>\n",
       "      <td>09:46:15</td>\n",
       "      <td>09:52:22</td>\n",
       "      <td>Winter</td>\n",
       "      <td>Wednesday</td>\n",
       "      <td>2020-01-01 21:00:00</td>\n",
       "      <td>-5.4</td>\n",
       "      <td>742.3</td>\n",
       "      <td>757.3</td>\n",
       "      <td>1.8</td>\n",
       "      <td>83</td>\n",
       "      <td>Ветер, дующий с запада</td>\n",
       "      <td>2</td>\n",
       "      <td>5.0</td>\n",
       "      <td>7.0</td>\n",
       "      <td>90  или более, но не 100%</td>\n",
       "      <td>Состояние неба в общем не изменилось.  Диаметр...</td>\n",
       "      <td>Ливень (ливни).</td>\n",
       "      <td>Облака покрывали более половины неба в течение...</td>\n",
       "      <td>NaN</td>\n",
       "      <td>NaN</td>\n",
       "      <td>Кучево-дождевые волокнистые (часто с наковальн...</td>\n",
       "      <td>70 – 80%.</td>\n",
       "      <td>600-1000</td>\n",
       "      <td>Высококучевые просвечивающие, расположенные на...</td>\n",
       "      <td>Перистых, перисто-кучевых или перисто-слоистых...</td>\n",
       "      <td>10.0</td>\n",
       "      <td>-7.8</td>\n",
       "      <td>NaN</td>\n",
       "      <td>NaN</td>\n",
       "      <td>NaN</td>\n",
       "      <td>NaN</td>\n",
       "      <td>NaN</td>\n",
       "      <td>NaN</td>\n",
       "      <td>1.0</td>\n",
       "    </tr>\n",
       "    <tr>\n",
       "      <th>1</th>\n",
       "      <td>2020-01-01</td>\n",
       "      <td>26 лет</td>\n",
       "      <td>Температура, взрослый</td>\n",
       "      <td>Первичный</td>\n",
       "      <td>неотложное состояние</td>\n",
       "      <td>ОРВИ. Гипертермический синдром</td>\n",
       "      <td>оказана помощь, больной оставлен на месте</td>\n",
       "      <td>ГБУЗ НО \"Городская поликлиника №7\" (ул. Верхне...</td>\n",
       "      <td>ПСМП №7</td>\n",
       "      <td>09:46:15</td>\n",
       "      <td>09:52:22</td>\n",
       "      <td>Winter</td>\n",
       "      <td>Wednesday</td>\n",
       "      <td>2020-01-01 18:00:00</td>\n",
       "      <td>-4.0</td>\n",
       "      <td>740.5</td>\n",
       "      <td>755.3</td>\n",
       "      <td>2.1</td>\n",
       "      <td>99</td>\n",
       "      <td>Ветер, дующий с севера</td>\n",
       "      <td>2</td>\n",
       "      <td>5.0</td>\n",
       "      <td>5.0</td>\n",
       "      <td>70 – 80%.</td>\n",
       "      <td>Состояние неба в общем не изменилось.</td>\n",
       "      <td>Ливень (ливни).</td>\n",
       "      <td>Облака покрывали более половины неба в течение...</td>\n",
       "      <td>NaN</td>\n",
       "      <td>0.0</td>\n",
       "      <td>Кучево-дождевые волокнистые (часто с наковальн...</td>\n",
       "      <td>40%.</td>\n",
       "      <td>600-1000</td>\n",
       "      <td>Высококучевых, высокослоистых или слоисто-дожд...</td>\n",
       "      <td>Перисто-кучевые одни или перисто-кучевые, сопр...</td>\n",
       "      <td>10.0</td>\n",
       "      <td>-4.2</td>\n",
       "      <td>7</td>\n",
       "      <td>12.0</td>\n",
       "      <td>NaN</td>\n",
       "      <td>NaN</td>\n",
       "      <td>NaN</td>\n",
       "      <td>NaN</td>\n",
       "      <td>1.0</td>\n",
       "    </tr>\n",
       "    <tr>\n",
       "      <th>2</th>\n",
       "      <td>2020-01-01</td>\n",
       "      <td>26 лет</td>\n",
       "      <td>Температура, взрослый</td>\n",
       "      <td>Первичный</td>\n",
       "      <td>неотложное состояние</td>\n",
       "      <td>ОРВИ. Гипертермический синдром</td>\n",
       "      <td>оказана помощь, больной оставлен на месте</td>\n",
       "      <td>ГБУЗ НО \"Городская поликлиника №7\" (ул. Верхне...</td>\n",
       "      <td>ПСМП №7</td>\n",
       "      <td>09:46:15</td>\n",
       "      <td>09:52:22</td>\n",
       "      <td>Winter</td>\n",
       "      <td>Wednesday</td>\n",
       "      <td>2020-01-01 15:00:00</td>\n",
       "      <td>-3.9</td>\n",
       "      <td>738.4</td>\n",
       "      <td>753.2</td>\n",
       "      <td>2.4</td>\n",
       "      <td>99</td>\n",
       "      <td>Ветер, дующий с севера</td>\n",
       "      <td>2</td>\n",
       "      <td>4.0</td>\n",
       "      <td>9.0</td>\n",
       "      <td>70 – 80%.</td>\n",
       "      <td>Состояние неба в общем не изменилось.</td>\n",
       "      <td>Снег или дождь со снегом.</td>\n",
       "      <td>Облака покрывали более половины неба в течение...</td>\n",
       "      <td>NaN</td>\n",
       "      <td>NaN</td>\n",
       "      <td>Слоисто-кучевых, слоистых, кучевых или кучево-...</td>\n",
       "      <td>20–30%.</td>\n",
       "      <td>2500 или более, или облаков нет.</td>\n",
       "      <td>Высококучевые просвечивающие, расположенные на...</td>\n",
       "      <td>Перисто-кучевые одни или перисто-кучевые, сопр...</td>\n",
       "      <td>10.0</td>\n",
       "      <td>-4.1</td>\n",
       "      <td>NaN</td>\n",
       "      <td>NaN</td>\n",
       "      <td>NaN</td>\n",
       "      <td>NaN</td>\n",
       "      <td>NaN</td>\n",
       "      <td>NaN</td>\n",
       "      <td>1.0</td>\n",
       "    </tr>\n",
       "    <tr>\n",
       "      <th>3</th>\n",
       "      <td>2020-01-01</td>\n",
       "      <td>26 лет</td>\n",
       "      <td>Температура, взрослый</td>\n",
       "      <td>Первичный</td>\n",
       "      <td>неотложное состояние</td>\n",
       "      <td>ОРВИ. Гипертермический синдром</td>\n",
       "      <td>оказана помощь, больной оставлен на месте</td>\n",
       "      <td>ГБУЗ НО \"Городская поликлиника №7\" (ул. Верхне...</td>\n",
       "      <td>ПСМП №7</td>\n",
       "      <td>09:46:15</td>\n",
       "      <td>09:52:22</td>\n",
       "      <td>Winter</td>\n",
       "      <td>Wednesday</td>\n",
       "      <td>2020-01-01 12:00:00</td>\n",
       "      <td>-3.2</td>\n",
       "      <td>736.0</td>\n",
       "      <td>750.7</td>\n",
       "      <td>3.1</td>\n",
       "      <td>90</td>\n",
       "      <td>Ветер, дующий с севера</td>\n",
       "      <td>3</td>\n",
       "      <td>7.0</td>\n",
       "      <td>9.0</td>\n",
       "      <td>70 – 80%.</td>\n",
       "      <td>Снег неливневый.</td>\n",
       "      <td>Снег или дождь со снегом.</td>\n",
       "      <td>Облака покрывали более половины неба в течение...</td>\n",
       "      <td>NaN</td>\n",
       "      <td>NaN</td>\n",
       "      <td>Слоисто-кучевые, образовавшиеся не из кучевых.</td>\n",
       "      <td>40%.</td>\n",
       "      <td>600-1000</td>\n",
       "      <td>Высококучевые просвечивающие, расположенные на...</td>\n",
       "      <td>Перистых, перисто-кучевых или перисто-слоистых...</td>\n",
       "      <td>10.0</td>\n",
       "      <td>-4.6</td>\n",
       "      <td>NaN</td>\n",
       "      <td>NaN</td>\n",
       "      <td>NaN</td>\n",
       "      <td>NaN</td>\n",
       "      <td>NaN</td>\n",
       "      <td>NaN</td>\n",
       "      <td>1.0</td>\n",
       "    </tr>\n",
       "    <tr>\n",
       "      <th>4</th>\n",
       "      <td>2020-01-01</td>\n",
       "      <td>26 лет</td>\n",
       "      <td>Температура, взрослый</td>\n",
       "      <td>Первичный</td>\n",
       "      <td>неотложное состояние</td>\n",
       "      <td>ОРВИ. Гипертермический синдром</td>\n",
       "      <td>оказана помощь, больной оставлен на месте</td>\n",
       "      <td>ГБУЗ НО \"Городская поликлиника №7\" (ул. Верхне...</td>\n",
       "      <td>ПСМП №7</td>\n",
       "      <td>09:46:15</td>\n",
       "      <td>09:52:22</td>\n",
       "      <td>Winter</td>\n",
       "      <td>Wednesday</td>\n",
       "      <td>2020-01-01 09:00:00</td>\n",
       "      <td>-0.2</td>\n",
       "      <td>732.9</td>\n",
       "      <td>747.4</td>\n",
       "      <td>2.0</td>\n",
       "      <td>100</td>\n",
       "      <td>Штиль, безветрие</td>\n",
       "      <td>0</td>\n",
       "      <td>NaN</td>\n",
       "      <td>NaN</td>\n",
       "      <td>100%.</td>\n",
       "      <td>Снег непрерывный умеренный в срок наблюдения. ...</td>\n",
       "      <td>Снег или дождь со снегом.</td>\n",
       "      <td>Облака покрывали более половины неба в течение...</td>\n",
       "      <td>-0.2</td>\n",
       "      <td>NaN</td>\n",
       "      <td>Слоистые разорванные или кучевые разорванные о...</td>\n",
       "      <td>100%.</td>\n",
       "      <td>200-300</td>\n",
       "      <td>Высокослоистые непросвечивающие или слоисто-до...</td>\n",
       "      <td>NaN</td>\n",
       "      <td>2.0</td>\n",
       "      <td>-0.2</td>\n",
       "      <td>NaN</td>\n",
       "      <td>NaN</td>\n",
       "      <td>NaN</td>\n",
       "      <td>NaN</td>\n",
       "      <td>NaN</td>\n",
       "      <td>NaN</td>\n",
       "      <td>1.0</td>\n",
       "    </tr>\n",
       "  </tbody>\n",
       "</table>\n",
       "</div>"
      ],
      "text/plain": [
       "        date     age               Occasion  Call Type             Sick Type  \\\n",
       "0 2020-01-01  26 лет  Температура, взрослый  Первичный  неотложное состояние   \n",
       "1 2020-01-01  26 лет  Температура, взрослый  Первичный  неотложное состояние   \n",
       "2 2020-01-01  26 лет  Температура, взрослый  Первичный  неотложное состояние   \n",
       "3 2020-01-01  26 лет  Температура, взрослый  Первичный  неотложное состояние   \n",
       "4 2020-01-01  26 лет  Температура, взрослый  Первичный  неотложное состояние   \n",
       "\n",
       "                         Diagnose                                     Result  \\\n",
       "0  ОРВИ. Гипертермический синдром  оказана помощь, больной оставлен на месте   \n",
       "1  ОРВИ. Гипертермический синдром  оказана помощь, больной оставлен на месте   \n",
       "2  ОРВИ. Гипертермический синдром  оказана помощь, больной оставлен на месте   \n",
       "3  ОРВИ. Гипертермический синдром  оказана помощь, больной оставлен на месте   \n",
       "4  ОРВИ. Гипертермический синдром  оказана помощь, больной оставлен на месте   \n",
       "\n",
       "                                        Delivered to substation Accepted time  \\\n",
       "0  ГБУЗ НО \"Городская поликлиника №7\" (ул. Верхне...    ПСМП №7      09:46:15   \n",
       "1  ГБУЗ НО \"Городская поликлиника №7\" (ул. Верхне...    ПСМП №7      09:46:15   \n",
       "2  ГБУЗ НО \"Городская поликлиника №7\" (ул. Верхне...    ПСМП №7      09:46:15   \n",
       "3  ГБУЗ НО \"Городская поликлиника №7\" (ул. Верхне...    ПСМП №7      09:46:15   \n",
       "4  ГБУЗ НО \"Городская поликлиника №7\" (ул. Верхне...    ПСМП №7      09:46:15   \n",
       "\n",
       "  Arrived time  season  dayOfWeek            datetime    T     Po      P   Pa  \\\n",
       "0     09:52:22  Winter  Wednesday 2020-01-01 21:00:00 -5.4  742.3  757.3  1.8   \n",
       "1     09:52:22  Winter  Wednesday 2020-01-01 18:00:00 -4.0  740.5  755.3  2.1   \n",
       "2     09:52:22  Winter  Wednesday 2020-01-01 15:00:00 -3.9  738.4  753.2  2.4   \n",
       "3     09:52:22  Winter  Wednesday 2020-01-01 12:00:00 -3.2  736.0  750.7  3.1   \n",
       "4     09:52:22  Winter  Wednesday 2020-01-01 09:00:00 -0.2  732.9  747.4  2.0   \n",
       "\n",
       "     U                      DD  Ff  ff10  ff3                          N  \\\n",
       "0   83  Ветер, дующий с запада   2   5.0  7.0  90  или более, но не 100%   \n",
       "1   99  Ветер, дующий с севера   2   5.0  5.0                  70 – 80%.   \n",
       "2   99  Ветер, дующий с севера   2   4.0  9.0                  70 – 80%.   \n",
       "3   90  Ветер, дующий с севера   3   7.0  9.0                  70 – 80%.   \n",
       "4  100        Штиль, безветрие   0   NaN  NaN                      100%.   \n",
       "\n",
       "                                                  WW  \\\n",
       "0  Состояние неба в общем не изменилось.  Диаметр...   \n",
       "1             Состояние неба в общем не изменилось.    \n",
       "2             Состояние неба в общем не изменилось.    \n",
       "3                                  Снег неливневый.    \n",
       "4  Снег непрерывный умеренный в срок наблюдения. ...   \n",
       "\n",
       "                          W1  \\\n",
       "0            Ливень (ливни).   \n",
       "1            Ливень (ливни).   \n",
       "2  Снег или дождь со снегом.   \n",
       "3  Снег или дождь со снегом.   \n",
       "4  Снег или дождь со снегом.   \n",
       "\n",
       "                                                  W2   Tn   Tx  \\\n",
       "0  Облака покрывали более половины неба в течение...  NaN  NaN   \n",
       "1  Облака покрывали более половины неба в течение...  NaN  0.0   \n",
       "2  Облака покрывали более половины неба в течение...  NaN  NaN   \n",
       "3  Облака покрывали более половины неба в течение...  NaN  NaN   \n",
       "4  Облака покрывали более половины неба в течение... -0.2  NaN   \n",
       "\n",
       "                                                  Cl         Nh  \\\n",
       "0  Кучево-дождевые волокнистые (часто с наковальн...  70 – 80%.   \n",
       "1  Кучево-дождевые волокнистые (часто с наковальн...       40%.   \n",
       "2  Слоисто-кучевых, слоистых, кучевых или кучево-...    20–30%.   \n",
       "3     Слоисто-кучевые, образовавшиеся не из кучевых.       40%.   \n",
       "4  Слоистые разорванные или кучевые разорванные о...      100%.   \n",
       "\n",
       "                                  H  \\\n",
       "0                          600-1000   \n",
       "1                          600-1000   \n",
       "2  2500 или более, или облаков нет.   \n",
       "3                          600-1000   \n",
       "4                           200-300   \n",
       "\n",
       "                                                  Cm  \\\n",
       "0  Высококучевые просвечивающие, расположенные на...   \n",
       "1  Высококучевых, высокослоистых или слоисто-дожд...   \n",
       "2  Высококучевые просвечивающие, расположенные на...   \n",
       "3  Высококучевые просвечивающие, расположенные на...   \n",
       "4  Высокослоистые непросвечивающие или слоисто-до...   \n",
       "\n",
       "                                                  Ch    VV   Td  RRR    tR  \\\n",
       "0  Перистых, перисто-кучевых или перисто-слоистых...  10.0 -7.8  NaN   NaN   \n",
       "1  Перисто-кучевые одни или перисто-кучевые, сопр...  10.0 -4.2    7  12.0   \n",
       "2  Перисто-кучевые одни или перисто-кучевые, сопр...  10.0 -4.1  NaN   NaN   \n",
       "3  Перистых, перисто-кучевых или перисто-слоистых...  10.0 -4.6  NaN   NaN   \n",
       "4                                                NaN   2.0 -0.2  NaN   NaN   \n",
       "\n",
       "     E  Tg   E'  sss  holiday day  \n",
       "0  NaN NaN  NaN  NaN          1.0  \n",
       "1  NaN NaN  NaN  NaN          1.0  \n",
       "2  NaN NaN  NaN  NaN          1.0  \n",
       "3  NaN NaN  NaN  NaN          1.0  \n",
       "4  NaN NaN  NaN  NaN          1.0  "
      ]
     },
     "execution_count": 33,
     "metadata": {},
     "output_type": "execute_result"
    }
   ],
   "source": [
    "total_df.head()"
   ]
  },
  {
   "cell_type": "code",
   "execution_count": 34,
   "id": "ea8a6607",
   "metadata": {},
   "outputs": [],
   "source": [
    "df_diagnose = total_df[['date', 'Call Type', 'Sick Type', 'Diagnose', 'season', 'dayOfWeek', 'T', 'P', 'U', 'holiday day']]"
   ]
  },
  {
   "cell_type": "code",
   "execution_count": 35,
   "id": "8ed536b5",
   "metadata": {},
   "outputs": [
    {
     "data": {
      "text/html": [
       "<div>\n",
       "<style scoped>\n",
       "    .dataframe tbody tr th:only-of-type {\n",
       "        vertical-align: middle;\n",
       "    }\n",
       "\n",
       "    .dataframe tbody tr th {\n",
       "        vertical-align: top;\n",
       "    }\n",
       "\n",
       "    .dataframe thead th {\n",
       "        text-align: right;\n",
       "    }\n",
       "</style>\n",
       "<table border=\"1\" class=\"dataframe\">\n",
       "  <thead>\n",
       "    <tr style=\"text-align: right;\">\n",
       "      <th></th>\n",
       "      <th>date</th>\n",
       "      <th>Call Type</th>\n",
       "      <th>Sick Type</th>\n",
       "      <th>Diagnose</th>\n",
       "      <th>season</th>\n",
       "      <th>dayOfWeek</th>\n",
       "      <th>T</th>\n",
       "      <th>P</th>\n",
       "      <th>U</th>\n",
       "      <th>holiday day</th>\n",
       "    </tr>\n",
       "  </thead>\n",
       "  <tbody>\n",
       "    <tr>\n",
       "      <th>0</th>\n",
       "      <td>2020-01-01</td>\n",
       "      <td>Первичный</td>\n",
       "      <td>неотложное состояние</td>\n",
       "      <td>ОРВИ. Гипертермический синдром</td>\n",
       "      <td>Winter</td>\n",
       "      <td>Wednesday</td>\n",
       "      <td>-5.4</td>\n",
       "      <td>757.3</td>\n",
       "      <td>83</td>\n",
       "      <td>1.0</td>\n",
       "    </tr>\n",
       "    <tr>\n",
       "      <th>1</th>\n",
       "      <td>2020-01-01</td>\n",
       "      <td>Первичный</td>\n",
       "      <td>неотложное состояние</td>\n",
       "      <td>ОРВИ. Гипертермический синдром</td>\n",
       "      <td>Winter</td>\n",
       "      <td>Wednesday</td>\n",
       "      <td>-4.0</td>\n",
       "      <td>755.3</td>\n",
       "      <td>99</td>\n",
       "      <td>1.0</td>\n",
       "    </tr>\n",
       "    <tr>\n",
       "      <th>2</th>\n",
       "      <td>2020-01-01</td>\n",
       "      <td>Первичный</td>\n",
       "      <td>неотложное состояние</td>\n",
       "      <td>ОРВИ. Гипертермический синдром</td>\n",
       "      <td>Winter</td>\n",
       "      <td>Wednesday</td>\n",
       "      <td>-3.9</td>\n",
       "      <td>753.2</td>\n",
       "      <td>99</td>\n",
       "      <td>1.0</td>\n",
       "    </tr>\n",
       "    <tr>\n",
       "      <th>3</th>\n",
       "      <td>2020-01-01</td>\n",
       "      <td>Первичный</td>\n",
       "      <td>неотложное состояние</td>\n",
       "      <td>ОРВИ. Гипертермический синдром</td>\n",
       "      <td>Winter</td>\n",
       "      <td>Wednesday</td>\n",
       "      <td>-3.2</td>\n",
       "      <td>750.7</td>\n",
       "      <td>90</td>\n",
       "      <td>1.0</td>\n",
       "    </tr>\n",
       "    <tr>\n",
       "      <th>4</th>\n",
       "      <td>2020-01-01</td>\n",
       "      <td>Первичный</td>\n",
       "      <td>неотложное состояние</td>\n",
       "      <td>ОРВИ. Гипертермический синдром</td>\n",
       "      <td>Winter</td>\n",
       "      <td>Wednesday</td>\n",
       "      <td>-0.2</td>\n",
       "      <td>747.4</td>\n",
       "      <td>100</td>\n",
       "      <td>1.0</td>\n",
       "    </tr>\n",
       "  </tbody>\n",
       "</table>\n",
       "</div>"
      ],
      "text/plain": [
       "        date  Call Type             Sick Type                        Diagnose  \\\n",
       "0 2020-01-01  Первичный  неотложное состояние  ОРВИ. Гипертермический синдром   \n",
       "1 2020-01-01  Первичный  неотложное состояние  ОРВИ. Гипертермический синдром   \n",
       "2 2020-01-01  Первичный  неотложное состояние  ОРВИ. Гипертермический синдром   \n",
       "3 2020-01-01  Первичный  неотложное состояние  ОРВИ. Гипертермический синдром   \n",
       "4 2020-01-01  Первичный  неотложное состояние  ОРВИ. Гипертермический синдром   \n",
       "\n",
       "   season  dayOfWeek    T      P    U  holiday day  \n",
       "0  Winter  Wednesday -5.4  757.3   83          1.0  \n",
       "1  Winter  Wednesday -4.0  755.3   99          1.0  \n",
       "2  Winter  Wednesday -3.9  753.2   99          1.0  \n",
       "3  Winter  Wednesday -3.2  750.7   90          1.0  \n",
       "4  Winter  Wednesday -0.2  747.4  100          1.0  "
      ]
     },
     "execution_count": 35,
     "metadata": {},
     "output_type": "execute_result"
    }
   ],
   "source": [
    "df_diagnose.head()"
   ]
  },
  {
   "cell_type": "code",
   "execution_count": 36,
   "id": "324e796a",
   "metadata": {},
   "outputs": [
    {
     "name": "stderr",
     "output_type": "stream",
     "text": [
      "C:\\Users\\A\\AppData\\Local\\Temp\\ipykernel_5700\\3785887982.py:1: SettingWithCopyWarning: \n",
      "A value is trying to be set on a copy of a slice from a DataFrame.\n",
      "Try using .loc[row_indexer,col_indexer] = value instead\n",
      "\n",
      "See the caveats in the documentation: https://pandas.pydata.org/pandas-docs/stable/user_guide/indexing.html#returning-a-view-versus-a-copy\n",
      "  df_diagnose['year'] = df_diagnose['date'].dt.year\n"
     ]
    }
   ],
   "source": [
    "df_diagnose['year'] = df_diagnose['date'].dt.year"
   ]
  },
  {
   "cell_type": "code",
   "execution_count": 37,
   "id": "40cdd42a",
   "metadata": {},
   "outputs": [
    {
     "name": "stderr",
     "output_type": "stream",
     "text": [
      "C:\\Users\\A\\AppData\\Local\\Temp\\ipykernel_5700\\487454834.py:1: SettingWithCopyWarning: \n",
      "A value is trying to be set on a copy of a slice from a DataFrame.\n",
      "Try using .loc[row_indexer,col_indexer] = value instead\n",
      "\n",
      "See the caveats in the documentation: https://pandas.pydata.org/pandas-docs/stable/user_guide/indexing.html#returning-a-view-versus-a-copy\n",
      "  df_diagnose['month'] = df_diagnose['date'].dt.month\n"
     ]
    }
   ],
   "source": [
    "df_diagnose['month'] = df_diagnose['date'].dt.month"
   ]
  },
  {
   "cell_type": "code",
   "execution_count": 38,
   "id": "c0a3f5a9",
   "metadata": {},
   "outputs": [],
   "source": [
    "df_diagnose = df_diagnose.drop('date', axis = 1)"
   ]
  },
  {
   "cell_type": "code",
   "execution_count": 39,
   "id": "5f1e601e",
   "metadata": {
    "scrolled": true
   },
   "outputs": [
    {
     "name": "stdout",
     "output_type": "stream",
     "text": [
      "Call Type\n",
      "['Первичный' 'Повторный' 'Попутный' 'ЧС' 'Неотложка' 'Амбулаторный'] len =  6\n",
      "Sick Type\n",
      "['неотложное состояние' 'внезапное заболевание' 'несчастный случай'\n",
      " 'хроническое заболевание' 'патология беременности' 'роды'] len =  6\n",
      "Diagnose\n",
      "['ОРВИ. Гипертермический синдром' 'Люмбалгия'\n",
      " 'Другие болезни желчевыводящих путей' ... 'Ссадины запястья'\n",
      " 'Рана передней стенки грудной клетки'\n",
      " 'ОНМК. Инсульт ишемический (повторный). Кома'] len =  1004\n",
      "season\n",
      "['Winter' 'Spring' 'Summer' 'Autumn'] len =  4\n",
      "dayOfWeek\n",
      "['Wednesday' 'Thursday' 'Friday' 'Saturday' 'Sunday' 'Monday' 'Tuesday'] len =  7\n",
      "T\n",
      "[ -5.4  -4.   -3.9  -3.2  -0.2   0.    0.2   0.1  -1.   -1.1  -0.3  -0.8\n",
      "  -2.   -1.5  -0.9   0.5   2.   -5.2  -2.9   0.6   0.9  -3.6  -4.2  -3.5\n",
      "   4.6   8.4   8.5   8.3   5.9   3.9   3.5   5.1   9.9  11.4  12.5  11.1\n",
      "   8.8   6.7   6.6   7.1  17.   18.3  16.7  15.4  19.7  13.3  10.7  11.7\n",
      "  15.3  16.9  19.3  20.9  19.4  15.6  11.5  12.   22.3  25.6  25.3  21.8\n",
      "  19.6  20.7  12.1  14.   20.6  19.2  13.4   9.7   2.4   2.9   3.2   3.7\n",
      "   4.2   3.8  -6.   -5.3  -4.7  -4.1  -5.9  -5.5  -5.1  -4.8   0.4   0.8\n",
      "   0.3  -0.4  -1.9  -3.   -3.4  -0.5  -0.1   0.7   2.5   2.3   1.8   1.4\n",
      "   1.3   1.    2.1   2.2   2.7   1.5   1.6   1.7   1.9  -0.6  -1.3  -1.4\n",
      "  -2.4  -2.3  -6.5  -6.2  -4.4  -4.3  -3.8  -3.3  -4.6  -7.7  -9.8 -10.1\n",
      "  -9.4  -6.8  -0.7  -1.7  -2.1 -10.5  -8.7  -7.1 -11.  -10.9 -10.4 -11.9\n",
      " -14.  -13.8 -14.1 -12.6  -3.7  -4.5  -7.3  -8.6  -9.9  -3.1  -2.8  -5.\n",
      "  -5.6   2.6   4.1   4.5  -1.8   3.6   4.    3.    6.8   9.8   9.6   5.\n",
      "   2.8  15.8  18.4  18.2  15.1  10.6   6.    7.3  16.8  16.5  16.   10.4\n",
      "  10.5  22.4  27.7  28.4  21.2  16.6  18.5  14.7  21.1  19.5  20.5  16.3\n",
      "  12.4  10.3  12.3  12.7  17.1  17.2  14.4   7.9  11.2  17.9  15.2   7.8\n",
      "   8.7 -11.7  -9.  -11.5 -12.1 -10.7  -4.9   4.3   6.3   6.2   5.5   3.4\n",
      "   6.1   8.    6.9   4.4  -1.6  -5.8  -1.2  -7.5  -6.3   4.7   7.   -2.6\n",
      "  -2.5  12.6  10.2   5.8   3.1   5.6  13.7   9.1  14.3  14.8  15.    7.2\n",
      "  10.1  13.8  15.5   8.6   1.1   5.3   4.8  17.8  22.   23.7  17.7  14.6\n",
      "  13.6  15.9  12.9  12.8  20.4  28.5  30.3  28.   23.   19.   21.   16.4\n",
      "  24.4  24.1  22.5  17.6  11.3  21.4  20.3   9.4  10.9  14.5   8.2   7.6\n",
      "   7.7   6.4   7.5 -11.8 -11.4  -9.5 -14.2 -14.3 -13.9 -12.5  18.6  10.8\n",
      "   4.9   5.7   5.2   8.9   8.1   9.3   3.3  -2.7   5.4  22.8  25.1  25.\n",
      "  23.6  17.3  -2.2  18.1  27.   21.5  13.1  14.2  15.7  24.9  25.4  21.9\n",
      "  18.8  -9.3  -8.8  -7.4 -13.  -12.8 -12.3  18.7  12.2  11.    6.5   7.4\n",
      "  11.6  13.9  13.2  10.    9.2  14.1  11.9  11.8  20.8  24.5  24.8  16.2\n",
      "  26.2  27.4  25.7  23.4  -6.1  -7.  -11.2  -9.7  17.5  28.7  26.6  24.6\n",
      "  24.2  17.4  13.5  22.9  16.1  -6.7  -9.2 -10.   23.3  26.3  20.   21.7\n",
      "  18.9  22.1  23.2  18.   26.5  27.3  20.2  -6.4  -8.9 -10.2  19.1  19.8\n",
      "  21.6  27.8  31.7  32.   30.4  24.7  24.3  23.8  -9.1  21.3  22.6  31.\n",
      "  31.5  23.9  20.1  23.5  13.   26.4  25.2  26.8 -15.3 -15.4 -14.8 -15.6\n",
      " -15.8  22.7  33.9  34.7  30.   -6.6 -10.3  14.9  22.2  24.   25.8  29.5\n",
      "  -5.7 -15.2 -14.5 -15.  -10.6 -10.8   9.5   9.   -7.6  -8.3  -8.4   1.2\n",
      " -12.  -12.4  -7.9  -8.1  -8.5 -11.1  28.2  26.9  19.9 -12.7 -12.2  -9.6\n",
      " -13.2 -13.7  -8.  -15.7 -13.6 -12.9 -14.6 -16.  -15.5 -13.1 -14.7 -13.4\n",
      " -13.3  -7.2 -24.1 -24.7 -23.  -24.6 -25.1 -26.  -23.8 -18.3 -19.7 -21.2\n",
      " -11.3 -20.  -19.5 -19.1 -19.2 -16.7 -21.9 -22.3 -21.  -20.8 -23.9 -23.2\n",
      " -19.3 -20.5 -21.1 -21.7 -16.5 -17.5 -18.6 -18.8  -7.8  26.1  28.9 -17.\n",
      " -17.2 -15.1 -13.5 -17.1 -17.9 -21.5 -20.2 -18.7 -14.4 -17.4 -21.4 -22.6\n",
      " -21.8 -18.9 -16.2 -14.9 -16.4 -20.6 -18.5 -18.4 -19.4 -22.5 -23.1 -22.1\n",
      " -15.9 -21.6 -23.6 -23.5 -24.  -27.2 -28.2 -26.8 -25.5 -17.3 -19.  -17.6\n",
      " -20.1 -23.4 -25.6 -25.7 -25.2  -6.9  29.3  28.1  26.   29.1  27.1  30.6\n",
      "  28.6  23.1 -19.8 -18.  -17.7 -16.1  25.9  25.5  26.7  27.2  32.7  29.7\n",
      "  32.9  32.5  30.7  31.4  27.5  31.3  28.8  32.1  29.   30.9  33.4  31.2\n",
      "  31.9  29.2  27.9 -16.6 -22.2 -22.4 -20.9  28.3  30.5  29.8  30.2  29.4\n",
      "  29.6  30.8  31.6 -20.3 -21.3  29.9  32.4  34.8  32.2 -19.6 -11.6 -17.8\n",
      "  27.6 -25.4 -25.  -28.1 -27.5 -26.9 -27.  -16.9  -8.2 -16.3] len =  574\n",
      "P\n",
      "[757.3 755.3 753.2 750.7 747.4 745.3 744.5 744.  755.2 755.  754.8 754.6\n",
      " 754.  753.4 752.5 760.3 760.6 761.  761.3 760.9 759.4 757.6 755.8 751.9\n",
      " 752.4 754.2 754.9 753.8 762.2 761.4 761.7 761.6 762.4 762.6 762.1 761.1\n",
      " 762.5 760.  758.8 756.8 756.4 756.3 757.9 758.7 752.3 752.8 753.3 754.3\n",
      " 757.8 757.  756.5 756.9 757.2 773.  772.6 772.4 772.8 773.1 772.9 772.5\n",
      " 770.5 770.8 769.3 769.1 768.1 779.2 778.9 778.7 778.6 751.4 751.1 750.8\n",
      " 751.  764.5 763.3 762.3 761.9 760.8 759.5 758.2 764.2 765.5 766.9 767.5\n",
      " 767.2 765.6 759.3 759.1 760.7 767.1 766.5 762.9 761.8 767.8 768.2 767.9\n",
      " 767.6 768.  766.8 766.2 766.4 762.8 763.5 763.4 763.6 764.7 765.7 744.8\n",
      " 749.5 752.2 757.7 742.4 742.6 742.3 742.9 743.  742.8 743.2 751.8 749.8\n",
      " 748.4 746.8 745.1 746.6 748.3 750.6 753.7 755.5 754.4 741.3 744.1 744.4\n",
      " 744.7 745.9 755.4 747.5 742.7 759.  756.2 749.6 747.9 765.1 766.7 766.6\n",
      " 766.  764.8 759.8 760.4 762.  763.2 754.5 755.9 758.5 751.2 747.8 748.8\n",
      " 750.4 756.7 743.8 747.  749.  753.1 760.2 760.1 759.7 753.9 752.9 763.7\n",
      " 763.1 756.1 756.  755.1 764.1 764.4 761.2 762.7 759.2 773.9 773.6 774.4\n",
      " 775.3 775.6 774.7 774.6 774.2 774.1 774.  772.2 772.  771.4 771.8 771.9\n",
      " 771.3 771.2 780.7 780.4 780.5 780.6 764.3 765.8 766.3 743.9 740.  739.7\n",
      " 739.2 741.8 747.7 750.  750.1 749.3 752.6 767.  765.3 765.9 752.7 757.1\n",
      " 756.6 763.  774.5 773.7 771.5 769.9 768.3 775.1 777.  777.9 777.4 776.2\n",
      " 770.9 770.7 771.1 772.3 773.2 771.7 769.7 769.8 770.4 770.3 774.8 773.8\n",
      " 768.7 770.2 753.6 754.1 754.7 755.6 750.5 751.6 742.  741.5 740.3 739.9\n",
      " 739.3 738.3 737.3 736.3 757.5 764.  758.  760.5 765.4 764.6 763.8 771.6\n",
      " 773.5   nan 776.5 776.4 775.8 781.6 781.3 780.8 752.  745.7 749.2 745.\n",
      " 746.4 747.2 748.  747.1 743.5 741.4 740.4 740.5 752.1 751.5 758.3 748.6\n",
      " 761.5 757.4 759.9 753.  748.7 748.1 746.1 749.9 749.1 755.7 753.5 750.3\n",
      " 758.4 750.9 748.9 770.1 770.6 769.4 768.5 764.9 765.2 766.1 783.5 783.3\n",
      " 782.8 782.7 783.  782.5 782.3 782.1 768.9 769.5 769.6 776.9 777.7 778.2\n",
      " 778.  777.5 751.3 746.3 746.2 746.9 758.1 772.1 771.  763.9 769.  768.4\n",
      " 767.7 746.5 747.3 748.2 768.6 750.2 784.8 784.6 784.2 784.3 768.8 765.\n",
      " 775.  784.7 784.5 785.1 785.2 785.  759.6 751.7 767.4 769.2 758.9 784.\n",
      " 784.1 784.4 758.6 783.4 783.9 775.4 775.2 781.4 781.7 782.2 782.9 770.\n",
      " 767.3 776.8 778.3 779.5 781.5 783.1 783.7 780.  779.9 777.1 776.7 775.9\n",
      " 781.8 781.1 780.2 779.8 779.  783.2 772.7 778.8 777.6 779.1 748.5 747.6\n",
      " 778.5 778.4 773.4 776.3 775.7 776.  773.3 776.6 777.2 740.6 740.7 739.5\n",
      " 737.9 736.  741.7 746.7 774.9 743.6 782.6 777.8 776.1 777.3 780.3 781.\n",
      " 782.  746.  745.8 749.7 775.5 745.6 743.7 744.9 779.6 749.4 774.3 745.5\n",
      " 781.9 782.4 783.8 743.4 745.2 734.6 734.9 734.2 734.4 735.1 737.  743.1\n",
      " 780.1 735.5 738.5 744.2 741.9 741.2 739.8 738.6 736.9 779.7 741.6 740.9\n",
      " 739.6 738.7 739.1 729.1 729.5 731.5 733.8 736.6 742.1 733.7 732.2 730.4\n",
      " 745.4 740.1 740.8 743.3 778.1 780.9 781.2 744.6 741.1 739. ] len =  478\n",
      "U\n",
      "[ 83  99  90 100  94  96  72  81  63  61  84  91  86  45  35  33  38  68\n",
      "  92  97  73  52  50  48  59  67  69  79  62  70  98  78  89  65  80  46\n",
      "  58  54  51  53  55  31  37  57  75  76  71  93  95  74  64  77  85  87\n",
      "  82  66  88  60  40  39  41  56  49  43  47  44  36  27  32  34  28  30\n",
      "  29  24  25  15  21  42  26  22  23  20  18  17  16  19] len =  86\n",
      "holiday day\n",
      "[1. 0.] len =  2\n",
      "year\n",
      "[2020 2021 2022] len =  3\n",
      "month\n",
      "[ 1  2  3  4  5  6  7  8  9 10 11 12] len =  12\n"
     ]
    }
   ],
   "source": [
    "for column in df_diagnose:\n",
    "    print(column)\n",
    "    print(df_diagnose[column].unique(), 'len = ', len(df_diagnose[column].unique()))"
   ]
  },
  {
   "cell_type": "code",
   "execution_count": 40,
   "id": "d4ad4c26",
   "metadata": {},
   "outputs": [],
   "source": [
    "df_diagnose = df_diagnose.dropna()"
   ]
  },
  {
   "cell_type": "code",
   "execution_count": 41,
   "id": "c1901150",
   "metadata": {},
   "outputs": [],
   "source": [
    "from sklearn.model_selection import train_test_split\n",
    "from sklearn import linear_model, ensemble"
   ]
  },
  {
   "cell_type": "code",
   "execution_count": 42,
   "id": "7d7a9c9c",
   "metadata": {},
   "outputs": [],
   "source": [
    "from sklearn.preprocessing import LabelEncoder"
   ]
  },
  {
   "cell_type": "code",
   "execution_count": 43,
   "id": "af82391e",
   "metadata": {},
   "outputs": [],
   "source": [
    "le = LabelEncoder()"
   ]
  },
  {
   "cell_type": "code",
   "execution_count": 44,
   "id": "e39cbb19",
   "metadata": {},
   "outputs": [],
   "source": [
    "target = le.fit_transform(df_diagnose['Diagnose'])"
   ]
  },
  {
   "cell_type": "code",
   "execution_count": 45,
   "id": "41d0f2a8",
   "metadata": {},
   "outputs": [],
   "source": [
    "df_diagnose.drop('Diagnose', axis=1, inplace=True)"
   ]
  },
  {
   "cell_type": "code",
   "execution_count": 46,
   "id": "bb2f6bb6",
   "metadata": {},
   "outputs": [],
   "source": [
    "df_diagnose = pd.concat([df_diagnose,  \n",
    "                 pd.get_dummies(df_diagnose['Call Type'], prefix=\"Call Type\"),\n",
    "                 pd.get_dummies(df_diagnose['Sick Type'], prefix=\"Sick Type\"),\n",
    "                 pd.get_dummies(df_diagnose['season'], prefix=\"season\"),\n",
    "                 pd.get_dummies(df_diagnose['dayOfWeek'], prefix=\"dayOfWeek\"),\n",
    "                 pd.get_dummies(df_diagnose['month'], prefix=\"month\")], \n",
    "                 axis=1)"
   ]
  },
  {
   "cell_type": "code",
   "execution_count": 47,
   "id": "f981b4e2",
   "metadata": {},
   "outputs": [],
   "source": [
    "df_diagnose.drop(['Call Type', 'Sick Type', 'season', 'dayOfWeek', 'month'], axis=1, inplace=True)"
   ]
  },
  {
   "cell_type": "code",
   "execution_count": 48,
   "id": "469bfa85",
   "metadata": {},
   "outputs": [],
   "source": [
    "df_train, df_test, train_target, test_target = train_test_split(df_diagnose, target, test_size=0.3,\n",
    "random_state=17)"
   ]
  },
  {
   "cell_type": "code",
   "execution_count": 49,
   "id": "451d7f20",
   "metadata": {},
   "outputs": [
    {
     "data": {
      "text/plain": [
       "(748199, 40)"
      ]
     },
     "execution_count": 49,
     "metadata": {},
     "output_type": "execute_result"
    }
   ],
   "source": [
    "df_train.shape"
   ]
  },
  {
   "cell_type": "code",
   "execution_count": 50,
   "id": "6c933a88",
   "metadata": {},
   "outputs": [
    {
     "data": {
      "image/png": "[encoded data removed]",
      "text/plain": [
       "<Figure size 1080x1080 with 42 Axes>"
      ]
     },
     "metadata": {
      "needs_background": "light"
     },
     "output_type": "display_data"
    }
   ],
   "source": [
    "df_train.hist(figsize=(15, 15));"
   ]
  },
  {
   "cell_type": "code",
   "execution_count": 51,
   "id": "25290133",
   "metadata": {
    "scrolled": true
   },
   "outputs": [
    {
     "data": {
      "text/html": [
       "<div>\n",
       "<style scoped>\n",
       "    .dataframe tbody tr th:only-of-type {\n",
       "        vertical-align: middle;\n",
       "    }\n",
       "\n",
       "    .dataframe tbody tr th {\n",
       "        vertical-align: top;\n",
       "    }\n",
       "\n",
       "    .dataframe thead th {\n",
       "        text-align: right;\n",
       "    }\n",
       "</style>\n",
       "<table border=\"1\" class=\"dataframe\">\n",
       "  <thead>\n",
       "    <tr style=\"text-align: right;\">\n",
       "      <th></th>\n",
       "      <th>T</th>\n",
       "      <th>P</th>\n",
       "      <th>U</th>\n",
       "      <th>holiday day</th>\n",
       "      <th>year</th>\n",
       "      <th>Call Type_Амбулаторный</th>\n",
       "      <th>Call Type_Неотложка</th>\n",
       "      <th>Call Type_Первичный</th>\n",
       "      <th>Call Type_Повторный</th>\n",
       "      <th>Call Type_Попутный</th>\n",
       "      <th>Call Type_ЧС</th>\n",
       "      <th>Sick Type_внезапное заболевание</th>\n",
       "      <th>Sick Type_неотложное состояние</th>\n",
       "      <th>Sick Type_несчастный случай</th>\n",
       "      <th>Sick Type_патология беременности</th>\n",
       "      <th>Sick Type_роды</th>\n",
       "      <th>Sick Type_хроническое заболевание</th>\n",
       "      <th>season_Autumn</th>\n",
       "      <th>season_Spring</th>\n",
       "      <th>season_Summer</th>\n",
       "      <th>season_Winter</th>\n",
       "      <th>dayOfWeek_Friday</th>\n",
       "      <th>dayOfWeek_Monday</th>\n",
       "      <th>dayOfWeek_Saturday</th>\n",
       "      <th>dayOfWeek_Sunday</th>\n",
       "      <th>dayOfWeek_Thursday</th>\n",
       "      <th>dayOfWeek_Tuesday</th>\n",
       "      <th>dayOfWeek_Wednesday</th>\n",
       "      <th>month_1</th>\n",
       "      <th>month_2</th>\n",
       "      <th>month_3</th>\n",
       "      <th>month_4</th>\n",
       "      <th>month_5</th>\n",
       "      <th>month_6</th>\n",
       "      <th>month_7</th>\n",
       "      <th>month_8</th>\n",
       "      <th>month_9</th>\n",
       "      <th>month_10</th>\n",
       "      <th>month_11</th>\n",
       "      <th>month_12</th>\n",
       "    </tr>\n",
       "  </thead>\n",
       "  <tbody>\n",
       "    <tr>\n",
       "      <th>0</th>\n",
       "      <td>-5.4</td>\n",
       "      <td>757.3</td>\n",
       "      <td>83</td>\n",
       "      <td>1.0</td>\n",
       "      <td>2020</td>\n",
       "      <td>0</td>\n",
       "      <td>0</td>\n",
       "      <td>1</td>\n",
       "      <td>0</td>\n",
       "      <td>0</td>\n",
       "      <td>0</td>\n",
       "      <td>0</td>\n",
       "      <td>1</td>\n",
       "      <td>0</td>\n",
       "      <td>0</td>\n",
       "      <td>0</td>\n",
       "      <td>0</td>\n",
       "      <td>0</td>\n",
       "      <td>0</td>\n",
       "      <td>0</td>\n",
       "      <td>1</td>\n",
       "      <td>0</td>\n",
       "      <td>0</td>\n",
       "      <td>0</td>\n",
       "      <td>0</td>\n",
       "      <td>0</td>\n",
       "      <td>0</td>\n",
       "      <td>1</td>\n",
       "      <td>1</td>\n",
       "      <td>0</td>\n",
       "      <td>0</td>\n",
       "      <td>0</td>\n",
       "      <td>0</td>\n",
       "      <td>0</td>\n",
       "      <td>0</td>\n",
       "      <td>0</td>\n",
       "      <td>0</td>\n",
       "      <td>0</td>\n",
       "      <td>0</td>\n",
       "      <td>0</td>\n",
       "    </tr>\n",
       "    <tr>\n",
       "      <th>1</th>\n",
       "      <td>-4.0</td>\n",
       "      <td>755.3</td>\n",
       "      <td>99</td>\n",
       "      <td>1.0</td>\n",
       "      <td>2020</td>\n",
       "      <td>0</td>\n",
       "      <td>0</td>\n",
       "      <td>1</td>\n",
       "      <td>0</td>\n",
       "      <td>0</td>\n",
       "      <td>0</td>\n",
       "      <td>0</td>\n",
       "      <td>1</td>\n",
       "      <td>0</td>\n",
       "      <td>0</td>\n",
       "      <td>0</td>\n",
       "      <td>0</td>\n",
       "      <td>0</td>\n",
       "      <td>0</td>\n",
       "      <td>0</td>\n",
       "      <td>1</td>\n",
       "      <td>0</td>\n",
       "      <td>0</td>\n",
       "      <td>0</td>\n",
       "      <td>0</td>\n",
       "      <td>0</td>\n",
       "      <td>0</td>\n",
       "      <td>1</td>\n",
       "      <td>1</td>\n",
       "      <td>0</td>\n",
       "      <td>0</td>\n",
       "      <td>0</td>\n",
       "      <td>0</td>\n",
       "      <td>0</td>\n",
       "      <td>0</td>\n",
       "      <td>0</td>\n",
       "      <td>0</td>\n",
       "      <td>0</td>\n",
       "      <td>0</td>\n",
       "      <td>0</td>\n",
       "    </tr>\n",
       "    <tr>\n",
       "      <th>2</th>\n",
       "      <td>-3.9</td>\n",
       "      <td>753.2</td>\n",
       "      <td>99</td>\n",
       "      <td>1.0</td>\n",
       "      <td>2020</td>\n",
       "      <td>0</td>\n",
       "      <td>0</td>\n",
       "      <td>1</td>\n",
       "      <td>0</td>\n",
       "      <td>0</td>\n",
       "      <td>0</td>\n",
       "      <td>0</td>\n",
       "      <td>1</td>\n",
       "      <td>0</td>\n",
       "      <td>0</td>\n",
       "      <td>0</td>\n",
       "      <td>0</td>\n",
       "      <td>0</td>\n",
       "      <td>0</td>\n",
       "      <td>0</td>\n",
       "      <td>1</td>\n",
       "      <td>0</td>\n",
       "      <td>0</td>\n",
       "      <td>0</td>\n",
       "      <td>0</td>\n",
       "      <td>0</td>\n",
       "      <td>0</td>\n",
       "      <td>1</td>\n",
       "      <td>1</td>\n",
       "      <td>0</td>\n",
       "      <td>0</td>\n",
       "      <td>0</td>\n",
       "      <td>0</td>\n",
       "      <td>0</td>\n",
       "      <td>0</td>\n",
       "      <td>0</td>\n",
       "      <td>0</td>\n",
       "      <td>0</td>\n",
       "      <td>0</td>\n",
       "      <td>0</td>\n",
       "    </tr>\n",
       "    <tr>\n",
       "      <th>3</th>\n",
       "      <td>-3.2</td>\n",
       "      <td>750.7</td>\n",
       "      <td>90</td>\n",
       "      <td>1.0</td>\n",
       "      <td>2020</td>\n",
       "      <td>0</td>\n",
       "      <td>0</td>\n",
       "      <td>1</td>\n",
       "      <td>0</td>\n",
       "      <td>0</td>\n",
       "      <td>0</td>\n",
       "      <td>0</td>\n",
       "      <td>1</td>\n",
       "      <td>0</td>\n",
       "      <td>0</td>\n",
       "      <td>0</td>\n",
       "      <td>0</td>\n",
       "      <td>0</td>\n",
       "      <td>0</td>\n",
       "      <td>0</td>\n",
       "      <td>1</td>\n",
       "      <td>0</td>\n",
       "      <td>0</td>\n",
       "      <td>0</td>\n",
       "      <td>0</td>\n",
       "      <td>0</td>\n",
       "      <td>0</td>\n",
       "      <td>1</td>\n",
       "      <td>1</td>\n",
       "      <td>0</td>\n",
       "      <td>0</td>\n",
       "      <td>0</td>\n",
       "      <td>0</td>\n",
       "      <td>0</td>\n",
       "      <td>0</td>\n",
       "      <td>0</td>\n",
       "      <td>0</td>\n",
       "      <td>0</td>\n",
       "      <td>0</td>\n",
       "      <td>0</td>\n",
       "    </tr>\n",
       "    <tr>\n",
       "      <th>4</th>\n",
       "      <td>-0.2</td>\n",
       "      <td>747.4</td>\n",
       "      <td>100</td>\n",
       "      <td>1.0</td>\n",
       "      <td>2020</td>\n",
       "      <td>0</td>\n",
       "      <td>0</td>\n",
       "      <td>1</td>\n",
       "      <td>0</td>\n",
       "      <td>0</td>\n",
       "      <td>0</td>\n",
       "      <td>0</td>\n",
       "      <td>1</td>\n",
       "      <td>0</td>\n",
       "      <td>0</td>\n",
       "      <td>0</td>\n",
       "      <td>0</td>\n",
       "      <td>0</td>\n",
       "      <td>0</td>\n",
       "      <td>0</td>\n",
       "      <td>1</td>\n",
       "      <td>0</td>\n",
       "      <td>0</td>\n",
       "      <td>0</td>\n",
       "      <td>0</td>\n",
       "      <td>0</td>\n",
       "      <td>0</td>\n",
       "      <td>1</td>\n",
       "      <td>1</td>\n",
       "      <td>0</td>\n",
       "      <td>0</td>\n",
       "      <td>0</td>\n",
       "      <td>0</td>\n",
       "      <td>0</td>\n",
       "      <td>0</td>\n",
       "      <td>0</td>\n",
       "      <td>0</td>\n",
       "      <td>0</td>\n",
       "      <td>0</td>\n",
       "      <td>0</td>\n",
       "    </tr>\n",
       "  </tbody>\n",
       "</table>\n",
       "</div>"
      ],
      "text/plain": [
       "     T      P    U  holiday day  year  Call Type_Амбулаторный  \\\n",
       "0 -5.4  757.3   83          1.0  2020                       0   \n",
       "1 -4.0  755.3   99          1.0  2020                       0   \n",
       "2 -3.9  753.2   99          1.0  2020                       0   \n",
       "3 -3.2  750.7   90          1.0  2020                       0   \n",
       "4 -0.2  747.4  100          1.0  2020                       0   \n",
       "\n",
       "   Call Type_Неотложка  Call Type_Первичный  Call Type_Повторный  \\\n",
       "0                    0                    1                    0   \n",
       "1                    0                    1                    0   \n",
       "2                    0                    1                    0   \n",
       "3                    0                    1                    0   \n",
       "4                    0                    1                    0   \n",
       "\n",
       "   Call Type_Попутный  Call Type_ЧС  Sick Type_внезапное заболевание  \\\n",
       "0                   0             0                                0   \n",
       "1                   0             0                                0   \n",
       "2                   0             0                                0   \n",
       "3                   0             0                                0   \n",
       "4                   0             0                                0   \n",
       "\n",
       "   Sick Type_неотложное состояние  Sick Type_несчастный случай  \\\n",
       "0                               1                            0   \n",
       "1                               1                            0   \n",
       "2                               1                            0   \n",
       "3                               1                            0   \n",
       "4                               1                            0   \n",
       "\n",
       "   Sick Type_патология беременности  Sick Type_роды  \\\n",
       "0                                 0               0   \n",
       "1                                 0               0   \n",
       "2                                 0               0   \n",
       "3                                 0               0   \n",
       "4                                 0               0   \n",
       "\n",
       "   Sick Type_хроническое заболевание  season_Autumn  season_Spring  \\\n",
       "0                                  0              0              0   \n",
       "1                                  0              0              0   \n",
       "2                                  0              0              0   \n",
       "3                                  0              0              0   \n",
       "4                                  0              0              0   \n",
       "\n",
       "   season_Summer  season_Winter  dayOfWeek_Friday  dayOfWeek_Monday  \\\n",
       "0              0              1                 0                 0   \n",
       "1              0              1                 0                 0   \n",
       "2              0              1                 0                 0   \n",
       "3              0              1                 0                 0   \n",
       "4              0              1                 0                 0   \n",
       "\n",
       "   dayOfWeek_Saturday  dayOfWeek_Sunday  dayOfWeek_Thursday  \\\n",
       "0                   0                 0                   0   \n",
       "1                   0                 0                   0   \n",
       "2                   0                 0                   0   \n",
       "3                   0                 0                   0   \n",
       "4                   0                 0                   0   \n",
       "\n",
       "   dayOfWeek_Tuesday  dayOfWeek_Wednesday  month_1  month_2  month_3  month_4  \\\n",
       "0                  0                    1        1        0        0        0   \n",
       "1                  0                    1        1        0        0        0   \n",
       "2                  0                    1        1        0        0        0   \n",
       "3                  0                    1        1        0        0        0   \n",
       "4                  0                    1        1        0        0        0   \n",
       "\n",
       "   month_5  month_6  month_7  month_8  month_9  month_10  month_11  month_12  \n",
       "0        0        0        0        0        0         0         0         0  \n",
       "1        0        0        0        0        0         0         0         0  \n",
       "2        0        0        0        0        0         0         0         0  \n",
       "3        0        0        0        0        0         0         0         0  \n",
       "4        0        0        0        0        0         0         0         0  "
      ]
     },
     "execution_count": 51,
     "metadata": {},
     "output_type": "execute_result"
    }
   ],
   "source": [
    "df_diagnose.head()"
   ]
  },
  {
   "cell_type": "code",
   "execution_count": 52,
   "id": "af7f4e80",
   "metadata": {},
   "outputs": [],
   "source": [
    "linear_regression_model = linear_model.LinearRegression()"
   ]
  },
  {
   "cell_type": "code",
   "execution_count": 53,
   "id": "236955a8",
   "metadata": {},
   "outputs": [],
   "source": [
    "random_forest_model = ensemble.RandomForestRegressor(random_state=123)"
   ]
  },
  {
   "cell_type": "code",
   "execution_count": 54,
   "id": "3b49f029",
   "metadata": {},
   "outputs": [
    {
     "data": {
      "text/html": [
       "<style>#sk-container-id-1 {color: black;background-color: white;}#sk-container-id-1 pre{padding: 0;}#sk-container-id-1 div.sk-toggleable {background-color: white;}#sk-container-id-1 label.sk-toggleable__label {cursor: pointer;display: block;width: 100%;margin-bottom: 0;padding: 0.3em;box-sizing: border-box;text-align: center;}#sk-container-id-1 label.sk-toggleable__label-arrow:before {content: \"▸\";float: left;margin-right: 0.25em;color: #696969;}#sk-container-id-1 label.sk-toggleable__label-arrow:hover:before {color: black;}#sk-container-id-1 div.sk-estimator:hover label.sk-toggleable__label-arrow:before {color: black;}#sk-container-id-1 div.sk-toggleable__content {max-height: 0;max-width: 0;overflow: hidden;text-align: left;background-color: #f0f8ff;}#sk-container-id-1 div.sk-toggleable__content pre {margin: 0.2em;color: black;border-radius: 0.25em;background-color: #f0f8ff;}#sk-container-id-1 input.sk-toggleable__control:checked~div.sk-toggleable__content {max-height: 200px;max-width: 100%;overflow: auto;}#sk-container-id-1 input.sk-toggleable__control:checked~label.sk-toggleable__label-arrow:before {content: \"▾\";}#sk-container-id-1 div.sk-estimator input.sk-toggleable__control:checked~label.sk-toggleable__label {background-color: #d4ebff;}#sk-container-id-1 div.sk-label input.sk-toggleable__control:checked~label.sk-toggleable__label {background-color: #d4ebff;}#sk-container-id-1 input.sk-hidden--visually {border: 0;clip: rect(1px 1px 1px 1px);clip: rect(1px, 1px, 1px, 1px);height: 1px;margin: -1px;overflow: hidden;padding: 0;position: absolute;width: 1px;}#sk-container-id-1 div.sk-estimator {font-family: monospace;background-color: #f0f8ff;border: 1px dotted black;border-radius: 0.25em;box-sizing: border-box;margin-bottom: 0.5em;}#sk-container-id-1 div.sk-estimator:hover {background-color: #d4ebff;}#sk-container-id-1 div.sk-parallel-item::after {content: \"\";width: 100%;border-bottom: 1px solid gray;flex-grow: 1;}#sk-container-id-1 div.sk-label:hover label.sk-toggleable__label {background-color: #d4ebff;}#sk-container-id-1 div.sk-serial::before {content: \"\";position: absolute;border-left: 1px solid gray;box-sizing: border-box;top: 0;bottom: 0;left: 50%;z-index: 0;}#sk-container-id-1 div.sk-serial {display: flex;flex-direction: column;align-items: center;background-color: white;padding-right: 0.2em;padding-left: 0.2em;position: relative;}#sk-container-id-1 div.sk-item {position: relative;z-index: 1;}#sk-container-id-1 div.sk-parallel {display: flex;align-items: stretch;justify-content: center;background-color: white;position: relative;}#sk-container-id-1 div.sk-item::before, #sk-container-id-1 div.sk-parallel-item::before {content: \"\";position: absolute;border-left: 1px solid gray;box-sizing: border-box;top: 0;bottom: 0;left: 50%;z-index: -1;}#sk-container-id-1 div.sk-parallel-item {display: flex;flex-direction: column;z-index: 1;position: relative;background-color: white;}#sk-container-id-1 div.sk-parallel-item:first-child::after {align-self: flex-end;width: 50%;}#sk-container-id-1 div.sk-parallel-item:last-child::after {align-self: flex-start;width: 50%;}#sk-container-id-1 div.sk-parallel-item:only-child::after {width: 0;}#sk-container-id-1 div.sk-dashed-wrapped {border: 1px dashed gray;margin: 0 0.4em 0.5em 0.4em;box-sizing: border-box;padding-bottom: 0.4em;background-color: white;}#sk-container-id-1 div.sk-label label {font-family: monospace;font-weight: bold;display: inline-block;line-height: 1.2em;}#sk-container-id-1 div.sk-label-container {text-align: center;}#sk-container-id-1 div.sk-container {/* jupyter's `normalize.less` sets `[hidden] { display: none; }` but bootstrap.min.css set `[hidden] { display: none !important; }` so we also need the `!important` here to be able to override the default hidden behavior on the sphinx rendered scikit-learn.org. See: https://github.com/scikit-learn/scikit-learn/issues/21755 */display: inline-block !important;position: relative;}#sk-container-id-1 div.sk-text-repr-fallback {display: none;}</style><div id=\"sk-container-id-1\" class=\"sk-top-container\"><div class=\"sk-text-repr-fallback\"><pre>LinearRegression()</pre><b>In a Jupyter environment, please rerun this cell to show the HTML representation or trust the notebook. <br />On GitHub, the HTML representation is unable to render, please try loading this page with nbviewer.org.</b></div><div class=\"sk-container\" hidden><div class=\"sk-item\"><div class=\"sk-estimator sk-toggleable\"><input class=\"sk-toggleable__control sk-hidden--visually\" id=\"sk-estimator-id-1\" type=\"checkbox\" checked><label for=\"sk-estimator-id-1\" class=\"sk-toggleable__label sk-toggleable__label-arrow\">LinearRegression</label><div class=\"sk-toggleable__content\"><pre>LinearRegression()</pre></div></div></div></div></div>"
      ],
      "text/plain": [
       "LinearRegression()"
      ]
     },
     "execution_count": 54,
     "metadata": {},
     "output_type": "execute_result"
    }
   ],
   "source": [
    "linear_regression_model.fit(df_train, train_target)"
   ]
  },
  {
   "cell_type": "code",
   "execution_count": 55,
   "id": "ae6df5d7",
   "metadata": {},
   "outputs": [
    {
     "data": {
      "text/html": [
       "<style>#sk-container-id-2 {color: black;background-color: white;}#sk-container-id-2 pre{padding: 0;}#sk-container-id-2 div.sk-toggleable {background-color: white;}#sk-container-id-2 label.sk-toggleable__label {cursor: pointer;display: block;width: 100%;margin-bottom: 0;padding: 0.3em;box-sizing: border-box;text-align: center;}#sk-container-id-2 label.sk-toggleable__label-arrow:before {content: \"▸\";float: left;margin-right: 0.25em;color: #696969;}#sk-container-id-2 label.sk-toggleable__label-arrow:hover:before {color: black;}#sk-container-id-2 div.sk-estimator:hover label.sk-toggleable__label-arrow:before {color: black;}#sk-container-id-2 div.sk-toggleable__content {max-height: 0;max-width: 0;overflow: hidden;text-align: left;background-color: #f0f8ff;}#sk-container-id-2 div.sk-toggleable__content pre {margin: 0.2em;color: black;border-radius: 0.25em;background-color: #f0f8ff;}#sk-container-id-2 input.sk-toggleable__control:checked~div.sk-toggleable__content {max-height: 200px;max-width: 100%;overflow: auto;}#sk-container-id-2 input.sk-toggleable__control:checked~label.sk-toggleable__label-arrow:before {content: \"▾\";}#sk-container-id-2 div.sk-estimator input.sk-toggleable__control:checked~label.sk-toggleable__label {background-color: #d4ebff;}#sk-container-id-2 div.sk-label input.sk-toggleable__control:checked~label.sk-toggleable__label {background-color: #d4ebff;}#sk-container-id-2 input.sk-hidden--visually {border: 0;clip: rect(1px 1px 1px 1px);clip: rect(1px, 1px, 1px, 1px);height: 1px;margin: -1px;overflow: hidden;padding: 0;position: absolute;width: 1px;}#sk-container-id-2 div.sk-estimator {font-family: monospace;background-color: #f0f8ff;border: 1px dotted black;border-radius: 0.25em;box-sizing: border-box;margin-bottom: 0.5em;}#sk-container-id-2 div.sk-estimator:hover {background-color: #d4ebff;}#sk-container-id-2 div.sk-parallel-item::after {content: \"\";width: 100%;border-bottom: 1px solid gray;flex-grow: 1;}#sk-container-id-2 div.sk-label:hover label.sk-toggleable__label {background-color: #d4ebff;}#sk-container-id-2 div.sk-serial::before {content: \"\";position: absolute;border-left: 1px solid gray;box-sizing: border-box;top: 0;bottom: 0;left: 50%;z-index: 0;}#sk-container-id-2 div.sk-serial {display: flex;flex-direction: column;align-items: center;background-color: white;padding-right: 0.2em;padding-left: 0.2em;position: relative;}#sk-container-id-2 div.sk-item {position: relative;z-index: 1;}#sk-container-id-2 div.sk-parallel {display: flex;align-items: stretch;justify-content: center;background-color: white;position: relative;}#sk-container-id-2 div.sk-item::before, #sk-container-id-2 div.sk-parallel-item::before {content: \"\";position: absolute;border-left: 1px solid gray;box-sizing: border-box;top: 0;bottom: 0;left: 50%;z-index: -1;}#sk-container-id-2 div.sk-parallel-item {display: flex;flex-direction: column;z-index: 1;position: relative;background-color: white;}#sk-container-id-2 div.sk-parallel-item:first-child::after {align-self: flex-end;width: 50%;}#sk-container-id-2 div.sk-parallel-item:last-child::after {align-self: flex-start;width: 50%;}#sk-container-id-2 div.sk-parallel-item:only-child::after {width: 0;}#sk-container-id-2 div.sk-dashed-wrapped {border: 1px dashed gray;margin: 0 0.4em 0.5em 0.4em;box-sizing: border-box;padding-bottom: 0.4em;background-color: white;}#sk-container-id-2 div.sk-label label {font-family: monospace;font-weight: bold;display: inline-block;line-height: 1.2em;}#sk-container-id-2 div.sk-label-container {text-align: center;}#sk-container-id-2 div.sk-container {/* jupyter's `normalize.less` sets `[hidden] { display: none; }` but bootstrap.min.css set `[hidden] { display: none !important; }` so we also need the `!important` here to be able to override the default hidden behavior on the sphinx rendered scikit-learn.org. See: https://github.com/scikit-learn/scikit-learn/issues/21755 */display: inline-block !important;position: relative;}#sk-container-id-2 div.sk-text-repr-fallback {display: none;}</style><div id=\"sk-container-id-2\" class=\"sk-top-container\"><div class=\"sk-text-repr-fallback\"><pre>RandomForestRegressor(random_state=123)</pre><b>In a Jupyter environment, please rerun this cell to show the HTML representation or trust the notebook. <br />On GitHub, the HTML representation is unable to render, please try loading this page with nbviewer.org.</b></div><div class=\"sk-container\" hidden><div class=\"sk-item\"><div class=\"sk-estimator sk-toggleable\"><input class=\"sk-toggleable__control sk-hidden--visually\" id=\"sk-estimator-id-2\" type=\"checkbox\" checked><label for=\"sk-estimator-id-2\" class=\"sk-toggleable__label sk-toggleable__label-arrow\">RandomForestRegressor</label><div class=\"sk-toggleable__content\"><pre>RandomForestRegressor(random_state=123)</pre></div></div></div></div></div>"
      ],
      "text/plain": [
       "RandomForestRegressor(random_state=123)"
      ]
     },
     "execution_count": 55,
     "metadata": {},
     "output_type": "execute_result"
    }
   ],
   "source": [
    "random_forest_model.fit(df_train, train_target)"
   ]
  },
  {
   "cell_type": "code",
   "execution_count": 56,
   "id": "ee4f05f4",
   "metadata": {},
   "outputs": [],
   "source": [
    "test_predictions_linear = linear_regression_model.predict(df_test)"
   ]
  },
  {
   "cell_type": "code",
   "execution_count": 57,
   "id": "d0d15434",
   "metadata": {},
   "outputs": [],
   "source": [
    "test_predictions_random_forest = random_forest_model.predict(df_test)"
   ]
  },
  {
   "cell_type": "code",
   "execution_count": 60,
   "id": "79741a14",
   "metadata": {},
   "outputs": [
    {
     "data": {
      "image/png": "[encoded data removed]",
      "text/plain": [
       "<Figure size 504x504 with 1 Axes>"
      ]
     },
     "metadata": {
      "needs_background": "light"
     },
     "output_type": "display_data"
    }
   ],
   "source": [
    "plt.figure(figsize=(7, 7))\n",
    "plt.scatter(test_target, test_predictions_linear) # рисуем точки, соответствущие парам настоящее значение - прогноз\n",
    "plt.plot([0, max(test_target)], [0, max(test_predictions_linear)])  # рисуем прямую, на которой предсказания и настоящие значения совпадают\n",
    "plt.xlabel('Настоящая цена', fontsize=20)\n",
    "plt.ylabel('Предсказанная цена', fontsize=20);"
   ]
  },
  {
   "cell_type": "code",
   "execution_count": 61,
   "id": "2a87dda6",
   "metadata": {},
   "outputs": [
    {
     "data": {
      "image/png": "[encoded data removed]",
      "text/plain": [
       "<Figure size 504x504 with 1 Axes>"
      ]
     },
     "metadata": {
      "needs_background": "light"
     },
     "output_type": "display_data"
    }
   ],
   "source": [
    "plt.figure(figsize=(7, 7))\n",
    "plt.scatter(test_target, test_predictions_random_forest) # рисуем точки, соответствущие парам настоящее значение - прогноз\n",
    "plt.plot([0, max(test_target)], [0, max(test_predictions_random_forest)]) # рисуем прямую, на которой предсказания и настоящие значения совпадают\n",
    "plt.xlabel('Настоящая цена', fontsize=20)\n",
    "plt.ylabel('Предсказанная цена', fontsize=20);"
   ]
  },
  {
   "cell_type": "code",
   "execution_count": 62,
   "id": "8c37a7ce",
   "metadata": {},
   "outputs": [],
   "source": [
    "from sklearn.metrics import mean_absolute_error, mean_squared_error, r2_score"
   ]
  },
  {
   "cell_type": "code",
   "execution_count": 63,
   "id": "8acfb447",
   "metadata": {},
   "outputs": [],
   "source": [
    "mean_absolute_error_linear_model = mean_absolute_error(test_target, test_predictions_linear)\n",
    "mean_squared_error_linear_model = mean_squared_error(test_target, test_predictions_linear)\n",
    "r2_score_linear_model = r2_score(test_target, test_predictions_linear)"
   ]
  },
  {
   "cell_type": "code",
   "execution_count": 64,
   "id": "4c5dedd4",
   "metadata": {},
   "outputs": [],
   "source": [
    "n_absolute_error_random_forest_model = mean_absolute_error(test_target, test_predictions_random_forest)\n",
    "mean_squared_error_random_forest_model = mean_squared_error(test_target, test_predictions_random_forest)\n",
    "r2_score_random_forest_model = r2_score(test_target, test_predictions_random_forest)"
   ]
  },
  {
   "cell_type": "code",
   "execution_count": 65,
   "id": "d4e35903",
   "metadata": {},
   "outputs": [
    {
     "name": "stdout",
     "output_type": "stream",
     "text": [
      "MAE:  213.38, RMSE:  246.92, R2:    0.05 for linear model\n",
      "MAE:  209.15, RMSE:  247.37,  R2:    0.04 for random forest model\n"
     ]
    }
   ],
   "source": [
    "print(\"MAE: {0:7.2f}, RMSE: {1:7.2f}, R2: {2:7.2f} for linear model\".format(\n",
    "        mean_absolute_error(test_target, test_predictions_linear), \n",
    "        mean_squared_error(test_target, test_predictions_linear)**0.5, r2_score_linear_model))\n",
    "\n",
    "print(\"MAE: {0:7.2f}, RMSE: {1:7.2f},  R2: {2:7.2f} for random forest model\".format(\n",
    "       mean_absolute_error(test_target, test_predictions_random_forest), \n",
    "       mean_squared_error(test_target, test_predictions_random_forest)**0.5, r2_score_random_forest_model))"
   ]
  },
  {
   "cell_type": "code",
   "execution_count": null,
   "id": "c04587c3",
   "metadata": {},
   "outputs": [],
   "source": []
  },
  {
   "cell_type": "code",
   "execution_count": null,
   "id": "6ec305f8",
   "metadata": {},
   "outputs": [],
   "source": []
  },
  {
   "cell_type": "code",
   "execution_count": null,
   "id": "f8a8f34f",
   "metadata": {},
   "outputs": [],
   "source": []
  },
  {
   "cell_type": "code",
   "execution_count": null,
   "id": "3a25eb46",
   "metadata": {},
   "outputs": [],
   "source": []
  },
  {
   "cell_type": "code",
   "execution_count": 66,
   "id": "2aee0c16",
   "metadata": {},
   "outputs": [
    {
     "data": {
      "image/png": "[encoded data removed]",
      "text/plain": [
       "<Figure size 432x288 with 2 Axes>"
      ]
     },
     "metadata": {
      "needs_background": "light"
     },
     "output_type": "display_data"
    }
   ],
   "source": [
    "cols = ['T', 'P', 'U', 'holiday day', 'year']\n",
    "hm = sns.heatmap(df_diagnose[cols].corr(),\n",
    "                 cbar=True,\n",
    "                 annot=True)"
   ]
  },
  {
   "cell_type": "code",
   "execution_count": null,
   "id": "dd3abbc9",
   "metadata": {},
   "outputs": [],
   "source": []
  },
  {
   "cell_type": "code",
   "execution_count": 67,
   "id": "9a89c2e3",
   "metadata": {},
   "outputs": [],
   "source": [
    "from sklearn.model_selection import train_test_split\n",
    "from sklearn.metrics import r2_score"
   ]
  },
  {
   "cell_type": "code",
   "execution_count": 68,
   "id": "5385a1ab",
   "metadata": {},
   "outputs": [],
   "source": [
    "from sklearn.ensemble import RandomForestRegressor\n",
    "model = RandomForestRegressor()\n",
    "model.fit(df_train, train_target)\n",
    "pred = model.predict(df_test)"
   ]
  },
  {
   "cell_type": "code",
   "execution_count": 69,
   "id": "c4ca46db",
   "metadata": {},
   "outputs": [
    {
     "data": {
      "text/plain": [
       "0.041976861130992416"
      ]
     },
     "execution_count": 69,
     "metadata": {},
     "output_type": "execute_result"
    }
   ],
   "source": [
    "r2_score(test_target, pred)"
   ]
  },
  {
   "cell_type": "code",
   "execution_count": null,
   "id": "878d9771",
   "metadata": {},
   "outputs": [],
   "source": []
  }
 ],
 "metadata": {
  "kernelspec": {
   "display_name": "Python 3 (ipykernel)",
   "language": "python",
   "name": "python3"
  },
  "language_info": {
   "codemirror_mode": {
    "name": "ipython",
    "version": 3
   },
   "file_extension": ".py",
   "mimetype": "text/x-python",
   "name": "python",
   "nbconvert_exporter": "python",
   "pygments_lexer": "ipython3",
   "version": "3.10.4"
  }
 },
 "nbformat": 4,
 "nbformat_minor": 5
}
