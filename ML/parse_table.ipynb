{
 "cells": [
  {
   "cell_type": "code",
   "execution_count": 1,
   "id": "1377d4c1",
   "metadata": {},
   "outputs": [],
   "source": [
    "import pandas as pd\n",
    "import os\n",
    "import datetime\n",
    "from Parser.TableParser import TableParser\n",
    "from Parser.HolidaysParser import HolidaysParser"
   ]
  },
  {
   "cell_type": "code",
   "execution_count": 4,
   "id": "ff145f6c",
   "metadata": {},
   "outputs": [],
   "source": [
    "all_df = []\n",
    "source = 'Datasets/processed_xlsx/'\n",
    "for directory in os.listdir(source):\n",
    "    for filepath in os.listdir(source + directory):\n",
    "        df = pd.read_excel(source + directory + '/' + filepath)\n",
    "        all_df.append(df)"
   ]
  },
  {
   "cell_type": "code",
   "execution_count": 5,
   "id": "dce283b9",
   "metadata": {},
   "outputs": [],
   "source": [
    "df = pd.concat(all_df)"
   ]
  },
  {
   "cell_type": "code",
   "execution_count": 6,
   "id": "c2bef2ce",
   "metadata": {},
   "outputs": [
    {
     "name": "stdout",
     "output_type": "stream",
     "text": [
      "<class 'pandas.core.frame.DataFrame'>\n",
      "Int64Index: 166260 entries, 0 to 6212\n",
      "Data columns (total 19 columns):\n",
      " #   Column         Non-Null Count   Dtype         \n",
      "---  ------         --------------   -----         \n",
      " 0   Unnamed: 0     166260 non-null  int64         \n",
      " 1   date           163970 non-null  datetime64[ns]\n",
      " 2   number         166260 non-null  object        \n",
      " 3   patient        0 non-null       float64       \n",
      " 4   age            166260 non-null  object        \n",
      " 5   called by      117411 non-null  object        \n",
      " 6   address        91371 non-null   object        \n",
      " 7   Occasion       152641 non-null  object        \n",
      " 8   Call Type      165895 non-null  object        \n",
      " 9   Sick Type      158771 non-null  object        \n",
      " 10  Diagnose       160128 non-null  object        \n",
      " 11  Result         163871 non-null  object        \n",
      " 12  Delivered to   166175 non-null  object        \n",
      " 13  brigade        0 non-null       float64       \n",
      " 14  substation     163957 non-null  object        \n",
      " 15  Accepted time  166170 non-null  datetime64[ns]\n",
      " 16  Arrived time   166168 non-null  datetime64[ns]\n",
      " 17  hospitalized   0 non-null       float64       \n",
      " 18  executive      0 non-null       float64       \n",
      "dtypes: datetime64[ns](3), float64(4), int64(1), object(11)\n",
      "memory usage: 25.4+ MB\n"
     ]
    }
   ],
   "source": [
    "df.info()"
   ]
  },
  {
   "cell_type": "code",
   "execution_count": 7,
   "id": "86e7da01",
   "metadata": {},
   "outputs": [],
   "source": [
    "df = df.drop(['Unnamed: 0', 'patient', 'hospitalized', 'executive', 'brigade', 'address', 'number', 'called by'], axis=1)"
   ]
  },
  {
   "cell_type": "code",
   "execution_count": 8,
   "id": "f2bb6ce8",
   "metadata": {},
   "outputs": [
    {
     "name": "stdout",
     "output_type": "stream",
     "text": [
      "<class 'pandas.core.frame.DataFrame'>\n",
      "Int64Index: 166260 entries, 0 to 6212\n",
      "Data columns (total 11 columns):\n",
      " #   Column         Non-Null Count   Dtype         \n",
      "---  ------         --------------   -----         \n",
      " 0   date           163970 non-null  datetime64[ns]\n",
      " 1   age            166260 non-null  object        \n",
      " 2   Occasion       152641 non-null  object        \n",
      " 3   Call Type      165895 non-null  object        \n",
      " 4   Sick Type      158771 non-null  object        \n",
      " 5   Diagnose       160128 non-null  object        \n",
      " 6   Result         163871 non-null  object        \n",
      " 7   Delivered to   166175 non-null  object        \n",
      " 8   substation     163957 non-null  object        \n",
      " 9   Accepted time  166170 non-null  datetime64[ns]\n",
      " 10  Arrived time   166168 non-null  datetime64[ns]\n",
      "dtypes: datetime64[ns](3), object(8)\n",
      "memory usage: 15.2+ MB\n"
     ]
    }
   ],
   "source": [
    "df.info()"
   ]
  },
  {
   "cell_type": "code",
   "execution_count": 9,
   "id": "a6471e40",
   "metadata": {},
   "outputs": [],
   "source": [
    "df = df.dropna()"
   ]
  },
  {
   "cell_type": "code",
   "execution_count": 10,
   "id": "523764d8",
   "metadata": {},
   "outputs": [
    {
     "name": "stdout",
     "output_type": "stream",
     "text": [
      "<class 'pandas.core.frame.DataFrame'>\n",
      "Int64Index: 141791 entries, 17 to 6212\n",
      "Data columns (total 11 columns):\n",
      " #   Column         Non-Null Count   Dtype         \n",
      "---  ------         --------------   -----         \n",
      " 0   date           141791 non-null  datetime64[ns]\n",
      " 1   age            141791 non-null  object        \n",
      " 2   Occasion       141791 non-null  object        \n",
      " 3   Call Type      141791 non-null  object        \n",
      " 4   Sick Type      141791 non-null  object        \n",
      " 5   Diagnose       141791 non-null  object        \n",
      " 6   Result         141791 non-null  object        \n",
      " 7   Delivered to   141791 non-null  object        \n",
      " 8   substation     141791 non-null  object        \n",
      " 9   Accepted time  141791 non-null  datetime64[ns]\n",
      " 10  Arrived time   141791 non-null  datetime64[ns]\n",
      "dtypes: datetime64[ns](3), object(8)\n",
      "memory usage: 13.0+ MB\n"
     ]
    }
   ],
   "source": [
    "df.info()"
   ]
  },
  {
   "cell_type": "code",
   "execution_count": 11,
   "id": "776fcded",
   "metadata": {},
   "outputs": [],
   "source": [
    "df['dayofyear'] = df['date'].dt.dayofyear\n",
    "df['dayofweek'] = df['date'].dt.dayofweek"
   ]
  },
  {
   "cell_type": "code",
   "execution_count": 12,
   "id": "50cbb046",
   "metadata": {},
   "outputs": [],
   "source": [
    "all_weather_dfs = []\n",
    "for year in [2020, 2021, 2022]:\n",
    "    weather_df = pd.read_excel(f'additionalData/weather/{year}.xls', skiprows=6)\n",
    "    all_weather_dfs.append(weather_df)\n",
    "df_weather = pd.concat(all_weather_dfs)"
   ]
  },
  {
   "cell_type": "code",
   "execution_count": 13,
   "id": "42c192f7",
   "metadata": {},
   "outputs": [],
   "source": [
    "df_weather = df_weather.rename({'Местное время в Нижнем Новгороде':'datetime'}, axis=1)\n",
    "df_weather['datetime'] = pd.to_datetime(df_weather['datetime'])"
   ]
  },
  {
   "cell_type": "code",
   "execution_count": 14,
   "id": "9eab0206",
   "metadata": {},
   "outputs": [],
   "source": [
    "df_weather['date'] = df_weather['datetime'].dt.date.astype('datetime64')"
   ]
  },
  {
   "cell_type": "code",
   "execution_count": 15,
   "id": "c74521a7",
   "metadata": {},
   "outputs": [
    {
     "data": {
      "text/plain": [
       "0      2020-12-31\n",
       "1      2020-12-31\n",
       "2      2020-12-31\n",
       "3      2020-12-31\n",
       "4      2020-12-31\n",
       "          ...    \n",
       "1203   2022-01-01\n",
       "1204   2022-01-01\n",
       "1205   2022-01-01\n",
       "1206   2022-01-01\n",
       "1207   2022-01-01\n",
       "Name: date, Length: 7056, dtype: datetime64[ns]"
      ]
     },
     "execution_count": 15,
     "metadata": {},
     "output_type": "execute_result"
    }
   ],
   "source": [
    "df_weather['date']"
   ]
  },
  {
   "cell_type": "code",
   "execution_count": 16,
   "id": "6a11f1e6",
   "metadata": {},
   "outputs": [],
   "source": [
    "df_weather = df_weather.groupby('date')[['T', 'Po', 'U']].mean()"
   ]
  },
  {
   "cell_type": "code",
   "execution_count": 17,
   "id": "f7fa7471",
   "metadata": {},
   "outputs": [
    {
     "name": "stdout",
     "output_type": "stream",
     "text": [
      "<class 'pandas.core.frame.DataFrame'>\n",
      "DatetimeIndex: 882 entries, 2020-01-01 to 2022-12-05\n",
      "Data columns (total 3 columns):\n",
      " #   Column  Non-Null Count  Dtype  \n",
      "---  ------  --------------  -----  \n",
      " 0   T       882 non-null    float64\n",
      " 1   Po      882 non-null    float64\n",
      " 2   U       882 non-null    float64\n",
      "dtypes: float64(3)\n",
      "memory usage: 27.6 KB\n"
     ]
    }
   ],
   "source": [
    "df_weather.info()"
   ]
  },
  {
   "cell_type": "code",
   "execution_count": 18,
   "id": "225a5772",
   "metadata": {},
   "outputs": [
    {
     "name": "stdout",
     "output_type": "stream",
     "text": [
      "<class 'pandas.core.frame.DataFrame'>\n",
      "Int64Index: 141791 entries, 17 to 6212\n",
      "Data columns (total 13 columns):\n",
      " #   Column         Non-Null Count   Dtype         \n",
      "---  ------         --------------   -----         \n",
      " 0   date           141791 non-null  datetime64[ns]\n",
      " 1   age            141791 non-null  object        \n",
      " 2   Occasion       141791 non-null  object        \n",
      " 3   Call Type      141791 non-null  object        \n",
      " 4   Sick Type      141791 non-null  object        \n",
      " 5   Diagnose       141791 non-null  object        \n",
      " 6   Result         141791 non-null  object        \n",
      " 7   Delivered to   141791 non-null  object        \n",
      " 8   substation     141791 non-null  object        \n",
      " 9   Accepted time  141791 non-null  datetime64[ns]\n",
      " 10  Arrived time   141791 non-null  datetime64[ns]\n",
      " 11  dayofyear      141791 non-null  int64         \n",
      " 12  dayofweek      141791 non-null  int64         \n",
      "dtypes: datetime64[ns](3), int64(2), object(8)\n",
      "memory usage: 15.1+ MB\n"
     ]
    }
   ],
   "source": [
    "df.info()"
   ]
  },
  {
   "cell_type": "code",
   "execution_count": 19,
   "id": "0b23e8ce",
   "metadata": {},
   "outputs": [],
   "source": [
    "holidays = []\n",
    "for year in (2020, 2021, 2022):\n",
    "    holidays.extend(HolidaysParser.get_holidays(year))"
   ]
  },
  {
   "cell_type": "code",
   "execution_count": 20,
   "id": "8921eb09",
   "metadata": {},
   "outputs": [],
   "source": [
    "holidays = [datetime.datetime.strptime(holiday, \"%d.%m.%Y\") for holiday in holidays]"
   ]
  },
  {
   "cell_type": "code",
   "execution_count": 41,
   "id": "76763140",
   "metadata": {},
   "outputs": [],
   "source": [
    "holidays_df = pd.DataFrame({'holiday day': 1, 'date': holidays})"
   ]
  },
  {
   "cell_type": "code",
   "execution_count": 42,
   "id": "00d2c0a8",
   "metadata": {},
   "outputs": [],
   "source": [
    "total_df = df.merge(df_weather, on='date', how='left').merge(holidays_df, on='date', how='left')"
   ]
  },
  {
   "cell_type": "code",
   "execution_count": 43,
   "id": "474d0713",
   "metadata": {},
   "outputs": [],
   "source": [
    "total_df['holiday day'] = total_df['holiday day'].fillna(0)"
   ]
  },
  {
   "cell_type": "code",
   "execution_count": 44,
   "id": "ab414841",
   "metadata": {},
   "outputs": [],
   "source": [
    "total_df['day'] = total_df['date'].dt.day\n",
    "total_df['month'] = total_df['date'].dt.month\n",
    "total_df['year'] = total_df['date'].dt.year"
   ]
  },
  {
   "cell_type": "code",
   "execution_count": 45,
   "id": "92df5d05",
   "metadata": {},
   "outputs": [],
   "source": [
    "total_df = total_df.iloc[:, -9:]"
   ]
  },
  {
   "cell_type": "code",
   "execution_count": 47,
   "id": "56b952a2",
   "metadata": {},
   "outputs": [],
   "source": [
    "statistic_for_period = total_df.groupby(['year','month', 'day']).count()['dayofyear']"
   ]
  },
  {
   "cell_type": "code",
   "execution_count": 49,
   "id": "df8a0a9b",
   "metadata": {},
   "outputs": [],
   "source": [
    "result_df = total_df.merge(statistic_for_period, on=['month', 'year', 'day'], how='left')"
   ]
  },
  {
   "cell_type": "code",
   "execution_count": 51,
   "id": "ae0fc22a",
   "metadata": {},
   "outputs": [],
   "source": [
    "from sklearn.model_selection import train_test_split\n",
    "from sklearn.metrics import r2_score"
   ]
  },
  {
   "cell_type": "code",
   "execution_count": 52,
   "id": "d4b530e0",
   "metadata": {},
   "outputs": [],
   "source": [
    "result_df = result_df.rename({'dayofyear_y': 'calls'}, axis=1)"
   ]
  },
  {
   "cell_type": "code",
   "execution_count": 53,
   "id": "4e830cce",
   "metadata": {},
   "outputs": [],
   "source": [
    "result_df = result_df.dropna()"
   ]
  },
  {
   "cell_type": "code",
   "execution_count": 54,
   "id": "cf3307f8",
   "metadata": {},
   "outputs": [],
   "source": [
    "X = result_df.drop('calls', axis=1)\n",
    "y = result_df['calls']"
   ]
  },
  {
   "cell_type": "code",
   "execution_count": 55,
   "id": "176fbc46",
   "metadata": {},
   "outputs": [],
   "source": [
    "X_train, X_test, y_train, y_test = train_test_split(X, y, test_size=0.4, random_state=42)"
   ]
  },
  {
   "cell_type": "code",
   "execution_count": 56,
   "id": "66411a82",
   "metadata": {},
   "outputs": [
    {
     "data": {
      "text/plain": [
       "0.9999999638863584"
      ]
     },
     "execution_count": 56,
     "metadata": {},
     "output_type": "execute_result"
    }
   ],
   "source": [
    "from sklearn.ensemble import RandomForestRegressor\n",
    "model = RandomForestRegressor()\n",
    "model.fit(X_train, y_train)\n",
    "pred = model.predict(X_test)\n",
    "r2_score(y_test, pred)"
   ]
  },
  {
   "cell_type": "code",
   "execution_count": null,
   "id": "d6ce14ae",
   "metadata": {},
   "outputs": [],
   "source": []
  }
 ],
 "metadata": {
  "kernelspec": {
   "display_name": "Python 3 (ipykernel)",
   "language": "python",
   "name": "python3"
  },
  "language_info": {
   "codemirror_mode": {
    "name": "ipython",
    "version": 3
   },
   "file_extension": ".py",
   "mimetype": "text/x-python",
   "name": "python",
   "nbconvert_exporter": "python",
   "pygments_lexer": "ipython3",
   "version": "3.10.4"
  }
 },
 "nbformat": 4,
 "nbformat_minor": 5
}
