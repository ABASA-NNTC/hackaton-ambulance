{
 "cells": [
  {
   "cell_type": "code",
   "execution_count": 1,
   "id": "a3d2741b",
   "metadata": {},
   "outputs": [],
   "source": [
    "from openpyxl import load_workbook\n",
    "import pyexcel\n",
    "import os"
   ]
  },
  {
   "cell_type": "code",
   "execution_count": 165,
   "id": "e038951e",
   "metadata": {},
   "outputs": [
    {
     "name": "stdout",
     "output_type": "stream",
     "text": [
      "data_xlsx_xlsx\n",
      "calls_2022_xlsx\n",
      "data_xls_xlsx\n"
     ]
    }
   ],
   "source": [
    "source = '/home/wizard/Documents/hackaton-ambulance/Datasets/data_xls/'\n",
    "dest = 'home/wizard/Documents/hackaton-ambulance/Datasets/data_xlsx/'\n",
    "\n",
    "for dir in os.listdir(dest):\n",
    "    print(dir)"
   ]
  },
  {
   "cell_type": "code",
   "execution_count": 139,
   "id": "48f68f19",
   "metadata": {},
   "outputs": [
    {
     "ename": "FileTypeNotSupported",
     "evalue": "File type '/home/wizard/documents/hackaton-ambulance/datasets//data_xls/calls_2022' is not supported for read.",
     "output_type": "error",
     "traceback": [
      "\u001b[0;31m---------------------------------------------------------------------------\u001b[0m",
      "\u001b[0;31mFileTypeNotSupported\u001b[0m                      Traceback (most recent call last)",
      "Input \u001b[0;32mIn [139]\u001b[0m, in \u001b[0;36m<cell line: 7>\u001b[0;34m()\u001b[0m\n\u001b[1;32m     10\u001b[0m \u001b[38;5;28;01mfor\u001b[39;00m file \u001b[38;5;129;01min\u001b[39;00m os\u001b[38;5;241m.\u001b[39mlistdir(\u001b[38;5;124mf\u001b[39m\u001b[38;5;124m'\u001b[39m\u001b[38;5;132;01m{\u001b[39;00msource\u001b[38;5;132;01m}\u001b[39;00m\u001b[38;5;124m/\u001b[39m\u001b[38;5;132;01m{\u001b[39;00m\u001b[38;5;28mdir\u001b[39m\u001b[38;5;132;01m}\u001b[39;00m\u001b[38;5;124m'\u001b[39m):\n\u001b[1;32m     11\u001b[0m     \u001b[38;5;28;01mif\u001b[39;00m (\u001b[38;5;129;01mnot\u001b[39;00m os\u001b[38;5;241m.\u001b[39mpath\u001b[38;5;241m.\u001b[39mexists(\u001b[38;5;124mf\u001b[39m\u001b[38;5;124m'\u001b[39m\u001b[38;5;132;01m{\u001b[39;00mdest\u001b[38;5;132;01m}\u001b[39;00m\u001b[38;5;124m/\u001b[39m\u001b[38;5;132;01m{\u001b[39;00m\u001b[38;5;28mdir\u001b[39m\u001b[38;5;132;01m}\u001b[39;00m\u001b[38;5;124m_xlsx/\u001b[39m\u001b[38;5;132;01m{\u001b[39;00mfile\u001b[38;5;132;01m}\u001b[39;00m\u001b[38;5;124mx\u001b[39m\u001b[38;5;124m'\u001b[39m)):\n\u001b[0;32m---> 12\u001b[0m         \u001b[43mpyexcel\u001b[49m\u001b[38;5;241;43m.\u001b[39;49m\u001b[43msave_book_as\u001b[49m\u001b[43m(\u001b[49m\u001b[43mfile_name\u001b[49m\u001b[38;5;241;43m=\u001b[39;49m\u001b[38;5;124;43mf\u001b[39;49m\u001b[38;5;124;43m'\u001b[39;49m\u001b[38;5;132;43;01m{\u001b[39;49;00m\u001b[43msource\u001b[49m\u001b[38;5;132;43;01m}\u001b[39;49;00m\u001b[38;5;124;43m/\u001b[39;49m\u001b[38;5;132;43;01m{\u001b[39;49;00m\u001b[38;5;28;43mdir\u001b[39;49m\u001b[38;5;132;43;01m}\u001b[39;49;00m\u001b[38;5;124;43m/\u001b[39;49m\u001b[38;5;132;43;01m{\u001b[39;49;00m\u001b[43mfile\u001b[49m\u001b[38;5;132;43;01m}\u001b[39;49;00m\u001b[38;5;124;43m'\u001b[39;49m\u001b[43m,\u001b[49m\u001b[43m \u001b[49m\u001b[43mdest_file_name\u001b[49m\u001b[38;5;241;43m=\u001b[39;49m\u001b[38;5;124;43mf\u001b[39;49m\u001b[38;5;124;43m'\u001b[39;49m\u001b[38;5;132;43;01m{\u001b[39;49;00m\u001b[43mdest\u001b[49m\u001b[38;5;132;43;01m}\u001b[39;49;00m\u001b[38;5;132;43;01m{\u001b[39;49;00m\u001b[38;5;28;43mdir\u001b[39;49m\u001b[38;5;132;43;01m}\u001b[39;49;00m\u001b[38;5;124;43m/\u001b[39;49m\u001b[38;5;132;43;01m{\u001b[39;49;00m\u001b[43mfile\u001b[49m\u001b[38;5;132;43;01m}\u001b[39;49;00m\u001b[38;5;124;43mx\u001b[39;49m\u001b[38;5;124;43m'\u001b[39;49m\u001b[43m)\u001b[49m\n\u001b[1;32m     13\u001b[0m         \u001b[38;5;28mprint\u001b[39m(\u001b[38;5;124mf\u001b[39m\u001b[38;5;124m'\u001b[39m\u001b[38;5;124mFile \u001b[39m\u001b[38;5;132;01m{\u001b[39;00mfile\u001b[38;5;132;01m}\u001b[39;00m\u001b[38;5;124mx has been created.\u001b[39m\u001b[38;5;124m'\u001b[39m)\n",
      "File \u001b[0;32m~/Documents/hackaton-ambulance/Parser/venv/lib/python3.10/site-packages/pyexcel/core.py:110\u001b[0m, in \u001b[0;36msave_book_as\u001b[0;34m(**keywords)\u001b[0m\n\u001b[1;32m    106\u001b[0m \u001b[38;5;124;03m\"\"\"\u001b[39;00m\n\u001b[1;32m    107\u001b[0m \u001b[38;5;124;03mSave a book from a data source to another one\u001b[39;00m\n\u001b[1;32m    108\u001b[0m \u001b[38;5;124;03m\"\"\"\u001b[39;00m\n\u001b[1;32m    109\u001b[0m dest_keywords, source_keywords \u001b[38;5;241m=\u001b[39m _split_keywords(\u001b[38;5;241m*\u001b[39m\u001b[38;5;241m*\u001b[39mkeywords)\n\u001b[0;32m--> 110\u001b[0m book \u001b[38;5;241m=\u001b[39m \u001b[43msources\u001b[49m\u001b[38;5;241;43m.\u001b[39;49m\u001b[43mget_book_stream\u001b[49m\u001b[43m(\u001b[49m\u001b[38;5;241;43m*\u001b[39;49m\u001b[38;5;241;43m*\u001b[39;49m\u001b[43msource_keywords\u001b[49m\u001b[43m)\u001b[49m\n\u001b[1;32m    111\u001b[0m book \u001b[38;5;241m=\u001b[39m to_book(book)\n\u001b[1;32m    112\u001b[0m \u001b[38;5;28;01mreturn\u001b[39;00m sources\u001b[38;5;241m.\u001b[39msave_book(book, \u001b[38;5;241m*\u001b[39m\u001b[38;5;241m*\u001b[39mdest_keywords)\n",
      "File \u001b[0;32m~/Documents/hackaton-ambulance/Parser/venv/lib/python3.10/site-packages/pyexcel/internal/core.py:36\u001b[0m, in \u001b[0;36mget_book_stream\u001b[0;34m(**keywords)\u001b[0m\n\u001b[1;32m     29\u001b[0m \u001b[38;5;28;01mdef\u001b[39;00m \u001b[38;5;21mget_book_stream\u001b[39m(\u001b[38;5;241m*\u001b[39m\u001b[38;5;241m*\u001b[39mkeywords):\n\u001b[1;32m     30\u001b[0m     \u001b[38;5;124;03m\"\"\"\u001b[39;00m\n\u001b[1;32m     31\u001b[0m \u001b[38;5;124;03m    Get an instance of BookStream from an excel source\u001b[39;00m\n\u001b[1;32m     32\u001b[0m \n\u001b[1;32m     33\u001b[0m \u001b[38;5;124;03m    Where the dictionary should have text as keys and two dimensional\u001b[39;00m\n\u001b[1;32m     34\u001b[0m \u001b[38;5;124;03m    array as values.\u001b[39;00m\n\u001b[1;32m     35\u001b[0m \u001b[38;5;124;03m    \"\"\"\u001b[39;00m\n\u001b[0;32m---> 36\u001b[0m     a_source \u001b[38;5;241m=\u001b[39m \u001b[43mSOURCE\u001b[49m\u001b[38;5;241;43m.\u001b[39;49m\u001b[43mget_book_source\u001b[49m\u001b[43m(\u001b[49m\u001b[38;5;241;43m*\u001b[39;49m\u001b[38;5;241;43m*\u001b[39;49m\u001b[43mkeywords\u001b[49m\u001b[43m)\u001b[49m\n\u001b[1;32m     37\u001b[0m     filename, path \u001b[38;5;241m=\u001b[39m a_source\u001b[38;5;241m.\u001b[39mget_source_info()\n\u001b[1;32m     38\u001b[0m     sheets \u001b[38;5;241m=\u001b[39m a_source\u001b[38;5;241m.\u001b[39mget_data()\n",
      "File \u001b[0;32m~/Documents/hackaton-ambulance/Parser/venv/lib/python3.10/site-packages/pyexcel/internal/source_plugin.py:85\u001b[0m, in \u001b[0;36mSourcePluginManager.get_book_source\u001b[0;34m(self, **keywords)\u001b[0m\n\u001b[1;32m     83\u001b[0m \u001b[38;5;28;01mdef\u001b[39;00m \u001b[38;5;21mget_book_source\u001b[39m(\u001b[38;5;28mself\u001b[39m, \u001b[38;5;241m*\u001b[39m\u001b[38;5;241m*\u001b[39mkeywords):\n\u001b[1;32m     84\u001b[0m     \u001b[38;5;124;03m\"\"\"obtain a book read source plugin for signature functions\"\"\"\u001b[39;00m\n\u001b[0;32m---> 85\u001b[0m     \u001b[38;5;28;01mreturn\u001b[39;00m \u001b[38;5;28;43mself\u001b[39;49m\u001b[38;5;241;43m.\u001b[39;49m\u001b[43mget_a_plugin\u001b[49m\u001b[43m(\u001b[49m\n\u001b[1;32m     86\u001b[0m \u001b[43m        \u001b[49m\u001b[43mtarget\u001b[49m\u001b[38;5;241;43m=\u001b[39;49m\u001b[43mconstants\u001b[49m\u001b[38;5;241;43m.\u001b[39;49m\u001b[43mBOOK\u001b[49m\u001b[43m,\u001b[49m\u001b[43m \u001b[49m\u001b[43maction\u001b[49m\u001b[38;5;241;43m=\u001b[39;49m\u001b[43mconstants\u001b[49m\u001b[38;5;241;43m.\u001b[39;49m\u001b[43mREAD_ACTION\u001b[49m\u001b[43m,\u001b[49m\u001b[43m \u001b[49m\u001b[38;5;241;43m*\u001b[39;49m\u001b[38;5;241;43m*\u001b[39;49m\u001b[43mkeywords\u001b[49m\n\u001b[1;32m     87\u001b[0m \u001b[43m    \u001b[49m\u001b[43m)\u001b[49m\n",
      "File \u001b[0;32m~/Documents/hackaton-ambulance/Parser/venv/lib/python3.10/site-packages/pyexcel/internal/source_plugin.py:69\u001b[0m, in \u001b[0;36mSourcePluginManager.get_a_plugin\u001b[0;34m(self, target, action, source_library, **keywords)\u001b[0m\n\u001b[1;32m     67\u001b[0m \u001b[38;5;28;01mif\u001b[39;00m \u001b[38;5;124m\"\u001b[39m\u001b[38;5;124mlibrary\u001b[39m\u001b[38;5;124m\"\u001b[39m \u001b[38;5;129;01min\u001b[39;00m keywords:\n\u001b[1;32m     68\u001b[0m     io_library \u001b[38;5;241m=\u001b[39m keywords\u001b[38;5;241m.\u001b[39mpop(\u001b[38;5;124m\"\u001b[39m\u001b[38;5;124mlibrary\u001b[39m\u001b[38;5;124m\"\u001b[39m)\n\u001b[0;32m---> 69\u001b[0m source_cls \u001b[38;5;241m=\u001b[39m \u001b[38;5;28;43mself\u001b[39;49m\u001b[38;5;241;43m.\u001b[39;49m\u001b[43mload_me_now\u001b[49m\u001b[43m(\u001b[49m\n\u001b[1;32m     70\u001b[0m \u001b[43m    \u001b[49m\u001b[43mkey\u001b[49m\u001b[43m,\u001b[49m\u001b[43m \u001b[49m\u001b[43maction\u001b[49m\u001b[38;5;241;43m=\u001b[39;49m\u001b[43maction\u001b[49m\u001b[43m,\u001b[49m\u001b[43m \u001b[49m\u001b[43mlibrary\u001b[49m\u001b[38;5;241;43m=\u001b[39;49m\u001b[43msource_library\u001b[49m\u001b[43m,\u001b[49m\u001b[43m \u001b[49m\u001b[38;5;241;43m*\u001b[39;49m\u001b[38;5;241;43m*\u001b[39;49m\u001b[43mkeywords\u001b[49m\n\u001b[1;32m     71\u001b[0m \u001b[43m\u001b[49m\u001b[43m)\u001b[49m\n\u001b[1;32m     72\u001b[0m \u001b[38;5;28;01mif\u001b[39;00m io_library \u001b[38;5;129;01mis\u001b[39;00m \u001b[38;5;129;01mnot\u001b[39;00m \u001b[38;5;28;01mNone\u001b[39;00m:\n\u001b[1;32m     73\u001b[0m     keywords[\u001b[38;5;124m\"\u001b[39m\u001b[38;5;124mlibrary\u001b[39m\u001b[38;5;124m\"\u001b[39m] \u001b[38;5;241m=\u001b[39m io_library\n",
      "File \u001b[0;32m~/Documents/hackaton-ambulance/Parser/venv/lib/python3.10/site-packages/pyexcel/internal/source_plugin.py:41\u001b[0m, in \u001b[0;36mSourcePluginManager.load_me_now\u001b[0;34m(self, key, action, library, **keywords)\u001b[0m\n\u001b[1;32m     39\u001b[0m plugin \u001b[38;5;241m=\u001b[39m \u001b[38;5;28;01mNone\u001b[39;00m\n\u001b[1;32m     40\u001b[0m \u001b[38;5;28;01mfor\u001b[39;00m source \u001b[38;5;129;01min\u001b[39;00m \u001b[38;5;28mself\u001b[39m\u001b[38;5;241m.\u001b[39mregistry[key]:\n\u001b[0;32m---> 41\u001b[0m     \u001b[38;5;28;01mif\u001b[39;00m \u001b[43msource\u001b[49m\u001b[38;5;241;43m.\u001b[39;49m\u001b[43mis_my_business\u001b[49m\u001b[43m(\u001b[49m\u001b[43maction\u001b[49m\u001b[43m,\u001b[49m\u001b[43m \u001b[49m\u001b[38;5;241;43m*\u001b[39;49m\u001b[38;5;241;43m*\u001b[39;49m\u001b[43mkeywords\u001b[49m\u001b[43m)\u001b[49m:\n\u001b[1;32m     42\u001b[0m         plugin \u001b[38;5;241m=\u001b[39m \u001b[38;5;28mself\u001b[39m\u001b[38;5;241m.\u001b[39mdynamic_load_library(source)\n\u001b[1;32m     43\u001b[0m         module_name \u001b[38;5;241m=\u001b[39m _get_me_pypi_package_name(plugin\u001b[38;5;241m.\u001b[39m\u001b[38;5;18m__module__\u001b[39m)\n",
      "File \u001b[0;32m~/Documents/hackaton-ambulance/Parser/venv/lib/python3.10/site-packages/pyexcel/plugins/__init__.py:52\u001b[0m, in \u001b[0;36mFileSourceInfo.is_my_business\u001b[0;34m(self, action, **keywords)\u001b[0m\n\u001b[1;32m     50\u001b[0m \u001b[38;5;28;01mif\u001b[39;00m file_type \u001b[38;5;129;01mis\u001b[39;00m \u001b[38;5;28;01mNone\u001b[39;00m:\n\u001b[1;32m     51\u001b[0m     \u001b[38;5;28;01mif\u001b[39;00m is_string(\u001b[38;5;28mtype\u001b[39m(file_name)):\n\u001b[0;32m---> 52\u001b[0m         file_type \u001b[38;5;241m=\u001b[39m \u001b[43mfind_file_type_from_file_name\u001b[49m\u001b[43m(\u001b[49m\n\u001b[1;32m     53\u001b[0m \u001b[43m            \u001b[49m\u001b[43mfile_name\u001b[49m\u001b[43m,\u001b[49m\u001b[43m \u001b[49m\u001b[43maction\u001b[49m\n\u001b[1;32m     54\u001b[0m \u001b[43m        \u001b[49m\u001b[43m)\u001b[49m\n\u001b[1;32m     55\u001b[0m     \u001b[38;5;28;01melse\u001b[39;00m:\n\u001b[1;32m     56\u001b[0m         \u001b[38;5;28;01mraise\u001b[39;00m \u001b[38;5;167;01mIOError\u001b[39;00m(\u001b[38;5;124m\"\u001b[39m\u001b[38;5;124mUnsupported file type\u001b[39m\u001b[38;5;124m\"\u001b[39m)\n",
      "File \u001b[0;32m~/Documents/hackaton-ambulance/Parser/venv/lib/python3.10/site-packages/pyexcel/plugins/__init__.py:116\u001b[0m, in \u001b[0;36mfind_file_type_from_file_name\u001b[0;34m(file_name, action)\u001b[0m\n\u001b[1;32m    114\u001b[0m \u001b[38;5;28;01melse\u001b[39;00m:\n\u001b[1;32m    115\u001b[0m     file_type \u001b[38;5;241m=\u001b[39m lowercase_file_name\u001b[38;5;241m.\u001b[39msplit(\u001b[38;5;124m\"\u001b[39m\u001b[38;5;124m.\u001b[39m\u001b[38;5;124m\"\u001b[39m)[\u001b[38;5;241m-\u001b[39m\u001b[38;5;241m1\u001b[39m]\n\u001b[0;32m--> 116\u001b[0m     \u001b[38;5;28;01mraise\u001b[39;00m FileTypeNotSupported(\n\u001b[1;32m    117\u001b[0m         constants\u001b[38;5;241m.\u001b[39mFILE_TYPE_NOT_SUPPORTED_FMT \u001b[38;5;241m%\u001b[39m (file_type, action)\n\u001b[1;32m    118\u001b[0m     )\n\u001b[1;32m    120\u001b[0m \u001b[38;5;28;01mreturn\u001b[39;00m file_type\n",
      "\u001b[0;31mFileTypeNotSupported\u001b[0m: File type '/home/wizard/documents/hackaton-ambulance/datasets//data_xls/calls_2022' is not supported for read."
     ]
    }
   ],
   "source": [
    "source = '/home/wizard/Documents/hackaton-ambulance/Datasets/'\n",
    "dest   = 'home/wizard/Documents/hackaton-ambulance/Datasets/data_xlsx/'\n",
    "\n",
    "if (not os.path.isdir(dest)):\n",
    "    os.makedirs(dest)\n",
    "\n",
    "for dir in os.listdir(source):\n",
    "    if (not os.path.exists(f'{dest}{dir}_xlsx')):\n",
    "        os.makedirs(f'{dest}{dir}_xlsx')\n",
    "    for file in os.listdir(f'{source}/{dir}'):\n",
    "        if (not os.path.exists(f'{dest}/{dir}_xlsx/{file}x')):\n",
    "            pyexcel.save_book_as(file_name=f'{source}/{dir}/{file}', dest_file_name=f'{dest}{dir}/{file}x')\n",
    "            print(f'File {file}x has been created.')"
   ]
  },
  {
   "cell_type": "code",
   "execution_count": null,
   "id": "7b9414a3",
   "metadata": {},
   "outputs": [],
   "source": []
  },
  {
   "cell_type": "code",
   "execution_count": null,
   "id": "d986fc66",
   "metadata": {},
   "outputs": [],
   "source": [
    "file_path = '/home/wizard/Documents/hackaton-ambulance/Datasets/calls_2020/Журнал активных вызовов 01-2020.xls'"
   ]
  },
  {
   "cell_type": "code",
   "execution_count": null,
   "id": "bfba42d7",
   "metadata": {},
   "outputs": [],
   "source": [
    "pyexcel.save_book_as(file_name=file_path, dest_file_name=\"1.xlsx\")"
   ]
  },
  {
   "cell_type": "code",
   "execution_count": null,
   "id": "a8241294",
   "metadata": {},
   "outputs": [],
   "source": [
    "wb = load_workbook(filename=\"1.xlsx\")\n",
    "ws = wb.active"
   ]
  },
  {
   "cell_type": "code",
   "execution_count": null,
   "id": "969e2032",
   "metadata": {},
   "outputs": [],
   "source": [
    "def print_data(index):\n",
    "    print('Индекс:', index)\n",
    "    print('Дата: ', ws[index][0].value)\n",
    "    print('Номер: ', ws[index][3].value)\n",
    "    print('Больной: ', ws[index][5].value)\n",
    "    print('Возраст: ', ws[index][16].value)\n",
    "    print('Исполнитель: ', ws[index][19].value)\n",
    "    \n",
    "    print('Адрес: ', ws[index + 1][1].value)\n",
    "    \n",
    "    print('Повод: ', ws[index + 2][1].value)\n",
    "    print('Вызов: ', ws[index + 2][11].value)\n",
    "    print('Вид: ', ws[index + 2][18].value)\n",
    "    \n",
    "    print('Диагноз: ', ws[index + 3][1].value)\n",
    "    print('Результат: ', ws[index + 3][11].value)\n",
    "    \n",
    "    print('Доставлен: ', ws[index + 4][1].value)\n",
    "    print('Подстанция: ', ws[index + 4][17].value)\n",
    "    \n",
    "    print('Принят: ', ws[index + 5][8].value)\n",
    "    print('Приезд: ', ws[index + 5][11].value)\n",
    "    \n",
    "    print('\\n\\n')\n",
    "    "
   ]
  },
  {
   "cell_type": "code",
   "execution_count": null,
   "id": "7e9d50ed",
   "metadata": {},
   "outputs": [],
   "source": [
    "row_index = 4 # skips table's headers\n",
    "max_rows = ws.max_row\n",
    "\n",
    "while (row_index <= 100):\n",
    "    #print(row_index, end='-')\n",
    "    if (ws[row_index][0].value):\n",
    "        if (ws[row_index][2].value):\n",
    "            print_data(row_index)\n",
    "            row_index += 6\n",
    "        else:\n",
    "            row_index += 1\n",
    "            while (not ws[row_index][0].value):\n",
    "                row_index += 1\n",
    "    else:\n",
    "        row_index += 6\n",
    "    #print(row_index)\n",
    "        \n",
    "print(row_index)"
   ]
  }
 ],
 "metadata": {
  "kernelspec": {
   "display_name": "Python 3 (ipykernel)",
   "language": "python",
   "name": "python3"
  },
  "language_info": {
   "codemirror_mode": {
    "name": "ipython",
    "version": 3
   },
   "file_extension": ".py",
   "mimetype": "text/x-python",
   "name": "python",
   "nbconvert_exporter": "python",
   "pygments_lexer": "ipython3",
   "version": "3.10.4"
  }
 },
 "nbformat": 4,
 "nbformat_minor": 5
}
